{
 "cells": [
  {
   "cell_type": "markdown",
   "id": "TEJpUkd7uQdX",
   "metadata": {
    "collapsed": false,
    "id": "TEJpUkd7uQdX",
    "jupyter": {
     "outputs_hidden": false
    }
   },
   "source": [
    "# 1. Install depencencies"
   ]
  },
  {
   "cell_type": "code",
   "execution_count": null,
   "id": "2khf4vBYvWQ5",
   "metadata": {
    "colab": {
     "base_uri": "https://localhost:8080/"
    },
    "id": "2khf4vBYvWQ5",
    "outputId": "54df2ec3-0234-436b-d330-7750ba268086"
   },
   "outputs": [
    {
     "name": "stdout",
     "output_type": "stream",
     "text": [
      "Mounted at /content/drive\n"
     ]
    }
   ],
   "source": [
    "## Uncomment for using in Google Colab\n",
    "from google.colab import drive\n",
    "drive.mount('/content/drive')"
   ]
  },
  {
   "cell_type": "code",
   "execution_count": null,
   "id": "o-5AYV8PuQdY",
   "metadata": {
    "colab": {
     "base_uri": "https://localhost:8080/"
    },
    "id": "o-5AYV8PuQdY",
    "outputId": "1d091c7e-faa6-42f4-d34b-7029523e4a2d"
   },
   "outputs": [
    {
     "name": "stdout",
     "output_type": "stream",
     "text": [
      "Requirement already satisfied: transformers[torch] in /usr/local/lib/python3.10/dist-packages (4.35.2)\n",
      "Requirement already satisfied: torch in /usr/local/lib/python3.10/dist-packages (2.1.0+cu121)\n",
      "Collecting accelerate\n",
      "  Downloading accelerate-0.27.0-py3-none-any.whl (279 kB)\n",
      "\u001b[2K     \u001b[90m━━━━━━━━━━━━━━━━━━━━━━━━━━━━━━━━━━━━━━━━\u001b[0m \u001b[32m279.7/279.7 kB\u001b[0m \u001b[31m5.2 MB/s\u001b[0m eta \u001b[36m0:00:00\u001b[0m\n",
      "\u001b[?25hCollecting fastparquet\n",
      "  Downloading fastparquet-2024.2.0-cp310-cp310-manylinux_2_17_x86_64.manylinux2014_x86_64.whl (1.7 MB)\n",
      "\u001b[2K     \u001b[90m━━━━━━━━━━━━━━━━━━━━━━━━━━━━━━━━━━━━━━━━\u001b[0m \u001b[32m1.7/1.7 MB\u001b[0m \u001b[31m54.1 MB/s\u001b[0m eta \u001b[36m0:00:00\u001b[0m\n",
      "\u001b[?25hRequirement already satisfied: filelock in /usr/local/lib/python3.10/dist-packages (from transformers[torch]) (3.13.1)\n",
      "Requirement already satisfied: huggingface-hub<1.0,>=0.16.4 in /usr/local/lib/python3.10/dist-packages (from transformers[torch]) (0.20.3)\n",
      "Requirement already satisfied: numpy>=1.17 in /usr/local/lib/python3.10/dist-packages (from transformers[torch]) (1.23.5)\n",
      "Requirement already satisfied: packaging>=20.0 in /usr/local/lib/python3.10/dist-packages (from transformers[torch]) (23.2)\n",
      "Requirement already satisfied: pyyaml>=5.1 in /usr/local/lib/python3.10/dist-packages (from transformers[torch]) (6.0.1)\n",
      "Requirement already satisfied: regex!=2019.12.17 in /usr/local/lib/python3.10/dist-packages (from transformers[torch]) (2023.12.25)\n",
      "Requirement already satisfied: requests in /usr/local/lib/python3.10/dist-packages (from transformers[torch]) (2.31.0)\n",
      "Requirement already satisfied: tokenizers<0.19,>=0.14 in /usr/local/lib/python3.10/dist-packages (from transformers[torch]) (0.15.1)\n",
      "Requirement already satisfied: safetensors>=0.3.1 in /usr/local/lib/python3.10/dist-packages (from transformers[torch]) (0.4.2)\n",
      "Requirement already satisfied: tqdm>=4.27 in /usr/local/lib/python3.10/dist-packages (from transformers[torch]) (4.66.1)\n",
      "Requirement already satisfied: typing-extensions in /usr/local/lib/python3.10/dist-packages (from torch) (4.9.0)\n",
      "Requirement already satisfied: sympy in /usr/local/lib/python3.10/dist-packages (from torch) (1.12)\n",
      "Requirement already satisfied: networkx in /usr/local/lib/python3.10/dist-packages (from torch) (3.2.1)\n",
      "Requirement already satisfied: jinja2 in /usr/local/lib/python3.10/dist-packages (from torch) (3.1.3)\n",
      "Requirement already satisfied: fsspec in /usr/local/lib/python3.10/dist-packages (from torch) (2023.6.0)\n",
      "Requirement already satisfied: triton==2.1.0 in /usr/local/lib/python3.10/dist-packages (from torch) (2.1.0)\n",
      "Requirement already satisfied: psutil in /usr/local/lib/python3.10/dist-packages (from accelerate) (5.9.5)\n",
      "Requirement already satisfied: pandas>=1.5.0 in /usr/local/lib/python3.10/dist-packages (from fastparquet) (1.5.3)\n",
      "Collecting cramjam>=2.3 (from fastparquet)\n",
      "  Downloading cramjam-2.8.1-cp310-cp310-manylinux_2_17_x86_64.manylinux2014_x86_64.whl (2.0 MB)\n",
      "\u001b[2K     \u001b[90m━━━━━━━━━━━━━━━━━━━━━━━━━━━━━━━━━━━━━━━━\u001b[0m \u001b[32m2.0/2.0 MB\u001b[0m \u001b[31m57.6 MB/s\u001b[0m eta \u001b[36m0:00:00\u001b[0m\n",
      "\u001b[?25hRequirement already satisfied: python-dateutil>=2.8.1 in /usr/local/lib/python3.10/dist-packages (from pandas>=1.5.0->fastparquet) (2.8.2)\n",
      "Requirement already satisfied: pytz>=2020.1 in /usr/local/lib/python3.10/dist-packages (from pandas>=1.5.0->fastparquet) (2023.4)\n",
      "Requirement already satisfied: MarkupSafe>=2.0 in /usr/local/lib/python3.10/dist-packages (from jinja2->torch) (2.1.5)\n",
      "Requirement already satisfied: charset-normalizer<4,>=2 in /usr/local/lib/python3.10/dist-packages (from requests->transformers[torch]) (3.3.2)\n",
      "Requirement already satisfied: idna<4,>=2.5 in /usr/local/lib/python3.10/dist-packages (from requests->transformers[torch]) (3.6)\n",
      "Requirement already satisfied: urllib3<3,>=1.21.1 in /usr/local/lib/python3.10/dist-packages (from requests->transformers[torch]) (2.0.7)\n",
      "Requirement already satisfied: certifi>=2017.4.17 in /usr/local/lib/python3.10/dist-packages (from requests->transformers[torch]) (2024.2.2)\n",
      "Requirement already satisfied: mpmath>=0.19 in /usr/local/lib/python3.10/dist-packages (from sympy->torch) (1.3.0)\n",
      "Requirement already satisfied: six>=1.5 in /usr/local/lib/python3.10/dist-packages (from python-dateutil>=2.8.1->pandas>=1.5.0->fastparquet) (1.16.0)\n",
      "Installing collected packages: cramjam, fastparquet, accelerate\n",
      "Successfully installed accelerate-0.27.0 cramjam-2.8.1 fastparquet-2024.2.0\n"
     ]
    }
   ],
   "source": [
    "!pip install 'transformers[torch]' faker transformers torch accelerate fastparquet"
   ]
  },
  {
   "cell_type": "code",
   "execution_count": null,
   "id": "initial_id",
   "metadata": {
    "id": "initial_id"
   },
   "outputs": [],
   "source": [
    "# from faker import Faker\n",
    "import pathlib\n",
    "import pandas as pd\n",
    "from sklearn.model_selection import train_test_split\n",
    "from transformers import TrainingArguments, Trainer, EarlyStoppingCallback, DistilBertForSequenceClassification, DistilBertTokenizerFast\n",
    "import torch"
   ]
  },
  {
   "cell_type": "markdown",
   "id": "2e2f06d651796000",
   "metadata": {
    "collapsed": false,
    "id": "2e2f06d651796000",
    "jupyter": {
     "outputs_hidden": false
    }
   },
   "source": [
    "# 2. Create synthetic text data with  personal data in the half of data points\n",
    "\n",
    "## Uncomment next two folders to generate and store synthetic data\n"
   ]
  },
  {
   "cell_type": "code",
   "execution_count": null,
   "id": "3dyN6fhC6Ymx",
   "metadata": {
    "id": "3dyN6fhC6Ymx"
   },
   "outputs": [],
   "source": [
    "# from create_synthetic_dataset import generate_synthetic_data"
   ]
  },
  {
   "cell_type": "code",
   "execution_count": null,
   "id": "i1LfFjVS6Zps",
   "metadata": {
    "id": "i1LfFjVS6Zps"
   },
   "outputs": [],
   "source": [
    "# %%time\n",
    "# # # Directory to store datasets\n",
    "# # datasets = 'ADJUST PATH TO YOUR DATASET'\n",
    "# pathlib.Path(datasets).mkdir(exist_ok=True, parents=True)\n",
    "\n",
    "# # Example of usage\n",
    "# num_samples=100\n",
    "# synthetic_data = generate_synthetic_data(num_samples)\n",
    "# # Saving data to a CSV file\n",
    "# file_name = f'{datasets}/synthetic_data_{int(num_samples/1_000_000)}m.parquet'\n",
    "# synthetic_data.to_parquet(file_name, compression='gzip', index=False)"
   ]
  },
  {
   "cell_type": "markdown",
   "id": "fIzEIQeuuQdZ",
   "metadata": {
    "collapsed": false,
    "id": "fIzEIQeuuQdZ",
    "jupyter": {
     "outputs_hidden": false
    }
   },
   "source": [
    "# 3. Work with synthetic_data\n",
    "\n",
    "---\n",
    "\n"
   ]
  },
  {
   "cell_type": "code",
   "execution_count": null,
   "id": "9MIxYJ8suQdZ",
   "metadata": {
    "execution": {
     "iopub.execute_input": "2024-02-12T18:45:19.181155Z",
     "iopub.status.busy": "2024-02-12T18:45:19.180807Z",
     "iopub.status.idle": "2024-02-12T18:45:41.509253Z",
     "shell.execute_reply": "2024-02-12T18:45:41.508232Z",
     "shell.execute_reply.started": "2024-02-12T18:45:19.181126Z"
    },
    "id": "9MIxYJ8suQdZ"
   },
   "outputs": [],
   "source": [
    "# Load the synthetic data\n",
    "file_name = '/content/drive/MyDrive/Colab Notebooks/projects/personal_data_detector/datasets/synthetic_data_10m.parquet'\n",
    "# file_name = 'ADJUST PATH TO YOU DATASET'\n",
    "df = pd.read_parquet(file_name)"
   ]
  },
  {
   "cell_type": "code",
   "execution_count": null,
   "id": "WCSwTWazqOtg",
   "metadata": {
    "colab": {
     "base_uri": "https://localhost:8080/"
    },
    "execution": {
     "iopub.execute_input": "2024-02-12T18:45:43.360875Z",
     "iopub.status.busy": "2024-02-12T18:45:43.359961Z",
     "iopub.status.idle": "2024-02-12T18:45:44.446565Z",
     "shell.execute_reply": "2024-02-12T18:45:44.445562Z",
     "shell.execute_reply.started": "2024-02-12T18:45:43.360842Z"
    },
    "id": "WCSwTWazqOtg",
    "outputId": "66885cb9-dd83-4ecd-d730-c74f17fe53bc"
   },
   "outputs": [
    {
     "name": "stdout",
     "output_type": "stream",
     "text": [
      "<class 'pandas.core.frame.DataFrame'>\n",
      "RangeIndex: 9694936 entries, 0 to 9694935\n",
      "Data columns (total 2 columns):\n",
      " #   Column             Non-Null Count    Dtype \n",
      "---  ------             --------------    ----- \n",
      " 0   text               9694936 non-null  object\n",
      " 1   has_personal_data  9694936 non-null  int64 \n",
      "dtypes: int64(1), object(1)\n",
      "memory usage: 147.9+ MB\n"
     ]
    }
   ],
   "source": [
    "# Check the data\n",
    "df.info(show_counts=True)"
   ]
  },
  {
   "cell_type": "code",
   "execution_count": null,
   "id": "lQFap6JfwWP-",
   "metadata": {
    "colab": {
     "base_uri": "https://localhost:8080/",
     "height": 363
    },
    "execution": {
     "iopub.execute_input": "2024-02-12T18:55:56.130022Z",
     "iopub.status.busy": "2024-02-12T18:55:56.129352Z",
     "iopub.status.idle": "2024-02-12T18:55:56.146131Z",
     "shell.execute_reply": "2024-02-12T18:55:56.145223Z",
     "shell.execute_reply.started": "2024-02-12T18:55:56.129993Z"
    },
    "id": "lQFap6JfwWP-",
    "outputId": "c4a03bb8-96a5-465e-b63c-f059515abd0d"
   },
   "outputs": [
    {
     "data": {
      "text/html": [
       "\n",
       "  <div id=\"df-7ae80917-1c7b-4cbc-9a69-12d53f8442ee\" class=\"colab-df-container\">\n",
       "    <div>\n",
       "<style scoped>\n",
       "    .dataframe tbody tr th:only-of-type {\n",
       "        vertical-align: middle;\n",
       "    }\n",
       "\n",
       "    .dataframe tbody tr th {\n",
       "        vertical-align: top;\n",
       "    }\n",
       "\n",
       "    .dataframe thead th {\n",
       "        text-align: right;\n",
       "    }\n",
       "</style>\n",
       "<table border=\"1\" class=\"dataframe\">\n",
       "  <thead>\n",
       "    <tr style=\"text-align: right;\">\n",
       "      <th></th>\n",
       "      <th>text</th>\n",
       "      <th>has_personal_data</th>\n",
       "    </tr>\n",
       "  </thead>\n",
       "  <tbody>\n",
       "    <tr>\n",
       "      <th>0</th>\n",
       "      <td>Tend recently daughter high generation soldier...</td>\n",
       "      <td>0</td>\n",
       "    </tr>\n",
       "    <tr>\n",
       "      <th>1</th>\n",
       "      <td>Money that understand become. Quite even syste...</td>\n",
       "      <td>0</td>\n",
       "    </tr>\n",
       "    <tr>\n",
       "      <th>2</th>\n",
       "      <td>Factor reality tough cup be win. Happen invest...</td>\n",
       "      <td>0</td>\n",
       "    </tr>\n",
       "    <tr>\n",
       "      <th>3</th>\n",
       "      <td>Heavy could top safe friend. Great hour popula...</td>\n",
       "      <td>0</td>\n",
       "    </tr>\n",
       "    <tr>\n",
       "      <th>4</th>\n",
       "      <td>587 Brian Ramp Apt. 558\\nBasshaven, IA 05960</td>\n",
       "      <td>1</td>\n",
       "    </tr>\n",
       "    <tr>\n",
       "      <th>5</th>\n",
       "      <td>Reginald Watson jason36@mitchell-pugh.com 451-...</td>\n",
       "      <td>1</td>\n",
       "    </tr>\n",
       "    <tr>\n",
       "      <th>6</th>\n",
       "      <td>4611 Tony Plaza\\nNew Carolynport, VA 40254 202...</td>\n",
       "      <td>1</td>\n",
       "    </tr>\n",
       "    <tr>\n",
       "      <th>7</th>\n",
       "      <td>Hotel over leave realize remember somebody eas...</td>\n",
       "      <td>0</td>\n",
       "    </tr>\n",
       "    <tr>\n",
       "      <th>8</th>\n",
       "      <td>Agree agent red claim. Party hit option there ...</td>\n",
       "      <td>0</td>\n",
       "    </tr>\n",
       "    <tr>\n",
       "      <th>9</th>\n",
       "      <td>311-90-3647 yadams@gmail.com 9724 Harris Mount...</td>\n",
       "      <td>1</td>\n",
       "    </tr>\n",
       "  </tbody>\n",
       "</table>\n",
       "</div>\n",
       "    <div class=\"colab-df-buttons\">\n",
       "\n",
       "  <div class=\"colab-df-container\">\n",
       "    <button class=\"colab-df-convert\" onclick=\"convertToInteractive('df-7ae80917-1c7b-4cbc-9a69-12d53f8442ee')\"\n",
       "            title=\"Convert this dataframe to an interactive table.\"\n",
       "            style=\"display:none;\">\n",
       "\n",
       "  <svg xmlns=\"http://www.w3.org/2000/svg\" height=\"24px\" viewBox=\"0 -960 960 960\">\n",
       "    <path d=\"M120-120v-720h720v720H120Zm60-500h600v-160H180v160Zm220 220h160v-160H400v160Zm0 220h160v-160H400v160ZM180-400h160v-160H180v160Zm440 0h160v-160H620v160ZM180-180h160v-160H180v160Zm440 0h160v-160H620v160Z\"/>\n",
       "  </svg>\n",
       "    </button>\n",
       "\n",
       "  <style>\n",
       "    .colab-df-container {\n",
       "      display:flex;\n",
       "      gap: 12px;\n",
       "    }\n",
       "\n",
       "    .colab-df-convert {\n",
       "      background-color: #E8F0FE;\n",
       "      border: none;\n",
       "      border-radius: 50%;\n",
       "      cursor: pointer;\n",
       "      display: none;\n",
       "      fill: #1967D2;\n",
       "      height: 32px;\n",
       "      padding: 0 0 0 0;\n",
       "      width: 32px;\n",
       "    }\n",
       "\n",
       "    .colab-df-convert:hover {\n",
       "      background-color: #E2EBFA;\n",
       "      box-shadow: 0px 1px 2px rgba(60, 64, 67, 0.3), 0px 1px 3px 1px rgba(60, 64, 67, 0.15);\n",
       "      fill: #174EA6;\n",
       "    }\n",
       "\n",
       "    .colab-df-buttons div {\n",
       "      margin-bottom: 4px;\n",
       "    }\n",
       "\n",
       "    [theme=dark] .colab-df-convert {\n",
       "      background-color: #3B4455;\n",
       "      fill: #D2E3FC;\n",
       "    }\n",
       "\n",
       "    [theme=dark] .colab-df-convert:hover {\n",
       "      background-color: #434B5C;\n",
       "      box-shadow: 0px 1px 3px 1px rgba(0, 0, 0, 0.15);\n",
       "      filter: drop-shadow(0px 1px 2px rgba(0, 0, 0, 0.3));\n",
       "      fill: #FFFFFF;\n",
       "    }\n",
       "  </style>\n",
       "\n",
       "    <script>\n",
       "      const buttonEl =\n",
       "        document.querySelector('#df-7ae80917-1c7b-4cbc-9a69-12d53f8442ee button.colab-df-convert');\n",
       "      buttonEl.style.display =\n",
       "        google.colab.kernel.accessAllowed ? 'block' : 'none';\n",
       "\n",
       "      async function convertToInteractive(key) {\n",
       "        const element = document.querySelector('#df-7ae80917-1c7b-4cbc-9a69-12d53f8442ee');\n",
       "        const dataTable =\n",
       "          await google.colab.kernel.invokeFunction('convertToInteractive',\n",
       "                                                    [key], {});\n",
       "        if (!dataTable) return;\n",
       "\n",
       "        const docLinkHtml = 'Like what you see? Visit the ' +\n",
       "          '<a target=\"_blank\" href=https://colab.research.google.com/notebooks/data_table.ipynb>data table notebook</a>'\n",
       "          + ' to learn more about interactive tables.';\n",
       "        element.innerHTML = '';\n",
       "        dataTable['output_type'] = 'display_data';\n",
       "        await google.colab.output.renderOutput(dataTable, element);\n",
       "        const docLink = document.createElement('div');\n",
       "        docLink.innerHTML = docLinkHtml;\n",
       "        element.appendChild(docLink);\n",
       "      }\n",
       "    </script>\n",
       "  </div>\n",
       "\n",
       "\n",
       "<div id=\"df-88d20a42-2665-4d60-b380-b51f71ad6cf3\">\n",
       "  <button class=\"colab-df-quickchart\" onclick=\"quickchart('df-88d20a42-2665-4d60-b380-b51f71ad6cf3')\"\n",
       "            title=\"Suggest charts\"\n",
       "            style=\"display:none;\">\n",
       "\n",
       "<svg xmlns=\"http://www.w3.org/2000/svg\" height=\"24px\"viewBox=\"0 0 24 24\"\n",
       "     width=\"24px\">\n",
       "    <g>\n",
       "        <path d=\"M19 3H5c-1.1 0-2 .9-2 2v14c0 1.1.9 2 2 2h14c1.1 0 2-.9 2-2V5c0-1.1-.9-2-2-2zM9 17H7v-7h2v7zm4 0h-2V7h2v10zm4 0h-2v-4h2v4z\"/>\n",
       "    </g>\n",
       "</svg>\n",
       "  </button>\n",
       "\n",
       "<style>\n",
       "  .colab-df-quickchart {\n",
       "      --bg-color: #E8F0FE;\n",
       "      --fill-color: #1967D2;\n",
       "      --hover-bg-color: #E2EBFA;\n",
       "      --hover-fill-color: #174EA6;\n",
       "      --disabled-fill-color: #AAA;\n",
       "      --disabled-bg-color: #DDD;\n",
       "  }\n",
       "\n",
       "  [theme=dark] .colab-df-quickchart {\n",
       "      --bg-color: #3B4455;\n",
       "      --fill-color: #D2E3FC;\n",
       "      --hover-bg-color: #434B5C;\n",
       "      --hover-fill-color: #FFFFFF;\n",
       "      --disabled-bg-color: #3B4455;\n",
       "      --disabled-fill-color: #666;\n",
       "  }\n",
       "\n",
       "  .colab-df-quickchart {\n",
       "    background-color: var(--bg-color);\n",
       "    border: none;\n",
       "    border-radius: 50%;\n",
       "    cursor: pointer;\n",
       "    display: none;\n",
       "    fill: var(--fill-color);\n",
       "    height: 32px;\n",
       "    padding: 0;\n",
       "    width: 32px;\n",
       "  }\n",
       "\n",
       "  .colab-df-quickchart:hover {\n",
       "    background-color: var(--hover-bg-color);\n",
       "    box-shadow: 0 1px 2px rgba(60, 64, 67, 0.3), 0 1px 3px 1px rgba(60, 64, 67, 0.15);\n",
       "    fill: var(--button-hover-fill-color);\n",
       "  }\n",
       "\n",
       "  .colab-df-quickchart-complete:disabled,\n",
       "  .colab-df-quickchart-complete:disabled:hover {\n",
       "    background-color: var(--disabled-bg-color);\n",
       "    fill: var(--disabled-fill-color);\n",
       "    box-shadow: none;\n",
       "  }\n",
       "\n",
       "  .colab-df-spinner {\n",
       "    border: 2px solid var(--fill-color);\n",
       "    border-color: transparent;\n",
       "    border-bottom-color: var(--fill-color);\n",
       "    animation:\n",
       "      spin 1s steps(1) infinite;\n",
       "  }\n",
       "\n",
       "  @keyframes spin {\n",
       "    0% {\n",
       "      border-color: transparent;\n",
       "      border-bottom-color: var(--fill-color);\n",
       "      border-left-color: var(--fill-color);\n",
       "    }\n",
       "    20% {\n",
       "      border-color: transparent;\n",
       "      border-left-color: var(--fill-color);\n",
       "      border-top-color: var(--fill-color);\n",
       "    }\n",
       "    30% {\n",
       "      border-color: transparent;\n",
       "      border-left-color: var(--fill-color);\n",
       "      border-top-color: var(--fill-color);\n",
       "      border-right-color: var(--fill-color);\n",
       "    }\n",
       "    40% {\n",
       "      border-color: transparent;\n",
       "      border-right-color: var(--fill-color);\n",
       "      border-top-color: var(--fill-color);\n",
       "    }\n",
       "    60% {\n",
       "      border-color: transparent;\n",
       "      border-right-color: var(--fill-color);\n",
       "    }\n",
       "    80% {\n",
       "      border-color: transparent;\n",
       "      border-right-color: var(--fill-color);\n",
       "      border-bottom-color: var(--fill-color);\n",
       "    }\n",
       "    90% {\n",
       "      border-color: transparent;\n",
       "      border-bottom-color: var(--fill-color);\n",
       "    }\n",
       "  }\n",
       "</style>\n",
       "\n",
       "  <script>\n",
       "    async function quickchart(key) {\n",
       "      const quickchartButtonEl =\n",
       "        document.querySelector('#' + key + ' button');\n",
       "      quickchartButtonEl.disabled = true;  // To prevent multiple clicks.\n",
       "      quickchartButtonEl.classList.add('colab-df-spinner');\n",
       "      try {\n",
       "        const charts = await google.colab.kernel.invokeFunction(\n",
       "            'suggestCharts', [key], {});\n",
       "      } catch (error) {\n",
       "        console.error('Error during call to suggestCharts:', error);\n",
       "      }\n",
       "      quickchartButtonEl.classList.remove('colab-df-spinner');\n",
       "      quickchartButtonEl.classList.add('colab-df-quickchart-complete');\n",
       "    }\n",
       "    (() => {\n",
       "      let quickchartButtonEl =\n",
       "        document.querySelector('#df-88d20a42-2665-4d60-b380-b51f71ad6cf3 button');\n",
       "      quickchartButtonEl.style.display =\n",
       "        google.colab.kernel.accessAllowed ? 'block' : 'none';\n",
       "    })();\n",
       "  </script>\n",
       "</div>\n",
       "    </div>\n",
       "  </div>\n"
      ],
      "text/plain": [
       "                                                text  has_personal_data\n",
       "0  Tend recently daughter high generation soldier...                  0\n",
       "1  Money that understand become. Quite even syste...                  0\n",
       "2  Factor reality tough cup be win. Happen invest...                  0\n",
       "3  Heavy could top safe friend. Great hour popula...                  0\n",
       "4       587 Brian Ramp Apt. 558\\nBasshaven, IA 05960                  1\n",
       "5  Reginald Watson jason36@mitchell-pugh.com 451-...                  1\n",
       "6  4611 Tony Plaza\\nNew Carolynport, VA 40254 202...                  1\n",
       "7  Hotel over leave realize remember somebody eas...                  0\n",
       "8  Agree agent red claim. Party hit option there ...                  0\n",
       "9  311-90-3647 yadams@gmail.com 9724 Harris Mount...                  1"
      ]
     },
     "execution_count": 6,
     "metadata": {},
     "output_type": "execute_result"
    }
   ],
   "source": [
    "df.head(10)"
   ]
  },
  {
   "cell_type": "code",
   "execution_count": null,
   "id": "ONHHsGvjwWP-",
   "metadata": {
    "colab": {
     "base_uri": "https://localhost:8080/"
    },
    "id": "ONHHsGvjwWP-",
    "outputId": "fecd02dc-84cd-4ff0-b702-fbecd7472c62"
   },
   "outputs": [
    {
     "data": {
      "text/plain": [
       "True"
      ]
     },
     "execution_count": 7,
     "metadata": {},
     "output_type": "execute_result"
    }
   ],
   "source": [
    "# Check whether the dataset is balanced or not\n",
    "df[df['has_personal_data']== 0].shape[0] == df[df['has_personal_data']== 1].shape[0]"
   ]
  },
  {
   "cell_type": "markdown",
   "id": "RU7PCoGMwxw5",
   "metadata": {
    "id": "RU7PCoGMwxw5"
   },
   "source": [
    "## 3.1 Select subset with desired size of num_samples. We used totally 1 mln datapoints: 500k with fake personal data and 500k without it"
   ]
  },
  {
   "cell_type": "code",
   "execution_count": null,
   "id": "qoXQRjHzwWP-",
   "metadata": {
    "colab": {
     "base_uri": "https://localhost:8080/",
     "height": 363
    },
    "execution": {
     "iopub.execute_input": "2024-02-12T19:09:59.827155Z",
     "iopub.status.busy": "2024-02-12T19:09:59.826264Z",
     "iopub.status.idle": "2024-02-12T19:10:01.667829Z",
     "shell.execute_reply": "2024-02-12T19:10:01.666788Z",
     "shell.execute_reply.started": "2024-02-12T19:09:59.827113Z"
    },
    "id": "qoXQRjHzwWP-",
    "outputId": "ef008e89-dd2a-4470-e423-b19e1bda4f90"
   },
   "outputs": [
    {
     "data": {
      "text/html": [
       "\n",
       "  <div id=\"df-186b36cf-3829-4861-8d5a-1fe9f6c1e38f\" class=\"colab-df-container\">\n",
       "    <div>\n",
       "<style scoped>\n",
       "    .dataframe tbody tr th:only-of-type {\n",
       "        vertical-align: middle;\n",
       "    }\n",
       "\n",
       "    .dataframe tbody tr th {\n",
       "        vertical-align: top;\n",
       "    }\n",
       "\n",
       "    .dataframe thead th {\n",
       "        text-align: right;\n",
       "    }\n",
       "</style>\n",
       "<table border=\"1\" class=\"dataframe\">\n",
       "  <thead>\n",
       "    <tr style=\"text-align: right;\">\n",
       "      <th></th>\n",
       "      <th>text</th>\n",
       "      <th>has_personal_data</th>\n",
       "    </tr>\n",
       "  </thead>\n",
       "  <tbody>\n",
       "    <tr>\n",
       "      <th>0</th>\n",
       "      <td>Enjoy of woman computer. Trip soon law claim s...</td>\n",
       "      <td>0</td>\n",
       "    </tr>\n",
       "    <tr>\n",
       "      <th>1</th>\n",
       "      <td>Available color simple Democrat good then stro...</td>\n",
       "      <td>0</td>\n",
       "    </tr>\n",
       "    <tr>\n",
       "      <th>2</th>\n",
       "      <td>Andrew Mathis lindawatkins@gmail.com 2003-05-0...</td>\n",
       "      <td>1</td>\n",
       "    </tr>\n",
       "    <tr>\n",
       "      <th>3</th>\n",
       "      <td>sbridges@hotmail.com Kathleen Robertson Nothin...</td>\n",
       "      <td>1</td>\n",
       "    </tr>\n",
       "    <tr>\n",
       "      <th>4</th>\n",
       "      <td>Together ever in spend little argue some.\\nLis...</td>\n",
       "      <td>0</td>\n",
       "    </tr>\n",
       "    <tr>\n",
       "      <th>5</th>\n",
       "      <td>Two woman face their language hour. Like bill ...</td>\n",
       "      <td>0</td>\n",
       "    </tr>\n",
       "    <tr>\n",
       "      <th>6</th>\n",
       "      <td>John Baker 752-234-8279</td>\n",
       "      <td>1</td>\n",
       "    </tr>\n",
       "    <tr>\n",
       "      <th>7</th>\n",
       "      <td>Like relationship where represent. Give nation...</td>\n",
       "      <td>0</td>\n",
       "    </tr>\n",
       "    <tr>\n",
       "      <th>8</th>\n",
       "      <td>1991-02-10 joyceralph@gmail.com Race between c...</td>\n",
       "      <td>1</td>\n",
       "    </tr>\n",
       "    <tr>\n",
       "      <th>9</th>\n",
       "      <td>Create check begin model feeling throughout. F...</td>\n",
       "      <td>0</td>\n",
       "    </tr>\n",
       "  </tbody>\n",
       "</table>\n",
       "</div>\n",
       "    <div class=\"colab-df-buttons\">\n",
       "\n",
       "  <div class=\"colab-df-container\">\n",
       "    <button class=\"colab-df-convert\" onclick=\"convertToInteractive('df-186b36cf-3829-4861-8d5a-1fe9f6c1e38f')\"\n",
       "            title=\"Convert this dataframe to an interactive table.\"\n",
       "            style=\"display:none;\">\n",
       "\n",
       "  <svg xmlns=\"http://www.w3.org/2000/svg\" height=\"24px\" viewBox=\"0 -960 960 960\">\n",
       "    <path d=\"M120-120v-720h720v720H120Zm60-500h600v-160H180v160Zm220 220h160v-160H400v160Zm0 220h160v-160H400v160ZM180-400h160v-160H180v160Zm440 0h160v-160H620v160ZM180-180h160v-160H180v160Zm440 0h160v-160H620v160Z\"/>\n",
       "  </svg>\n",
       "    </button>\n",
       "\n",
       "  <style>\n",
       "    .colab-df-container {\n",
       "      display:flex;\n",
       "      gap: 12px;\n",
       "    }\n",
       "\n",
       "    .colab-df-convert {\n",
       "      background-color: #E8F0FE;\n",
       "      border: none;\n",
       "      border-radius: 50%;\n",
       "      cursor: pointer;\n",
       "      display: none;\n",
       "      fill: #1967D2;\n",
       "      height: 32px;\n",
       "      padding: 0 0 0 0;\n",
       "      width: 32px;\n",
       "    }\n",
       "\n",
       "    .colab-df-convert:hover {\n",
       "      background-color: #E2EBFA;\n",
       "      box-shadow: 0px 1px 2px rgba(60, 64, 67, 0.3), 0px 1px 3px 1px rgba(60, 64, 67, 0.15);\n",
       "      fill: #174EA6;\n",
       "    }\n",
       "\n",
       "    .colab-df-buttons div {\n",
       "      margin-bottom: 4px;\n",
       "    }\n",
       "\n",
       "    [theme=dark] .colab-df-convert {\n",
       "      background-color: #3B4455;\n",
       "      fill: #D2E3FC;\n",
       "    }\n",
       "\n",
       "    [theme=dark] .colab-df-convert:hover {\n",
       "      background-color: #434B5C;\n",
       "      box-shadow: 0px 1px 3px 1px rgba(0, 0, 0, 0.15);\n",
       "      filter: drop-shadow(0px 1px 2px rgba(0, 0, 0, 0.3));\n",
       "      fill: #FFFFFF;\n",
       "    }\n",
       "  </style>\n",
       "\n",
       "    <script>\n",
       "      const buttonEl =\n",
       "        document.querySelector('#df-186b36cf-3829-4861-8d5a-1fe9f6c1e38f button.colab-df-convert');\n",
       "      buttonEl.style.display =\n",
       "        google.colab.kernel.accessAllowed ? 'block' : 'none';\n",
       "\n",
       "      async function convertToInteractive(key) {\n",
       "        const element = document.querySelector('#df-186b36cf-3829-4861-8d5a-1fe9f6c1e38f');\n",
       "        const dataTable =\n",
       "          await google.colab.kernel.invokeFunction('convertToInteractive',\n",
       "                                                    [key], {});\n",
       "        if (!dataTable) return;\n",
       "\n",
       "        const docLinkHtml = 'Like what you see? Visit the ' +\n",
       "          '<a target=\"_blank\" href=https://colab.research.google.com/notebooks/data_table.ipynb>data table notebook</a>'\n",
       "          + ' to learn more about interactive tables.';\n",
       "        element.innerHTML = '';\n",
       "        dataTable['output_type'] = 'display_data';\n",
       "        await google.colab.output.renderOutput(dataTable, element);\n",
       "        const docLink = document.createElement('div');\n",
       "        docLink.innerHTML = docLinkHtml;\n",
       "        element.appendChild(docLink);\n",
       "      }\n",
       "    </script>\n",
       "  </div>\n",
       "\n",
       "\n",
       "<div id=\"df-09cf0a0a-0d23-470a-9b8c-dabe70a96b7a\">\n",
       "  <button class=\"colab-df-quickchart\" onclick=\"quickchart('df-09cf0a0a-0d23-470a-9b8c-dabe70a96b7a')\"\n",
       "            title=\"Suggest charts\"\n",
       "            style=\"display:none;\">\n",
       "\n",
       "<svg xmlns=\"http://www.w3.org/2000/svg\" height=\"24px\"viewBox=\"0 0 24 24\"\n",
       "     width=\"24px\">\n",
       "    <g>\n",
       "        <path d=\"M19 3H5c-1.1 0-2 .9-2 2v14c0 1.1.9 2 2 2h14c1.1 0 2-.9 2-2V5c0-1.1-.9-2-2-2zM9 17H7v-7h2v7zm4 0h-2V7h2v10zm4 0h-2v-4h2v4z\"/>\n",
       "    </g>\n",
       "</svg>\n",
       "  </button>\n",
       "\n",
       "<style>\n",
       "  .colab-df-quickchart {\n",
       "      --bg-color: #E8F0FE;\n",
       "      --fill-color: #1967D2;\n",
       "      --hover-bg-color: #E2EBFA;\n",
       "      --hover-fill-color: #174EA6;\n",
       "      --disabled-fill-color: #AAA;\n",
       "      --disabled-bg-color: #DDD;\n",
       "  }\n",
       "\n",
       "  [theme=dark] .colab-df-quickchart {\n",
       "      --bg-color: #3B4455;\n",
       "      --fill-color: #D2E3FC;\n",
       "      --hover-bg-color: #434B5C;\n",
       "      --hover-fill-color: #FFFFFF;\n",
       "      --disabled-bg-color: #3B4455;\n",
       "      --disabled-fill-color: #666;\n",
       "  }\n",
       "\n",
       "  .colab-df-quickchart {\n",
       "    background-color: var(--bg-color);\n",
       "    border: none;\n",
       "    border-radius: 50%;\n",
       "    cursor: pointer;\n",
       "    display: none;\n",
       "    fill: var(--fill-color);\n",
       "    height: 32px;\n",
       "    padding: 0;\n",
       "    width: 32px;\n",
       "  }\n",
       "\n",
       "  .colab-df-quickchart:hover {\n",
       "    background-color: var(--hover-bg-color);\n",
       "    box-shadow: 0 1px 2px rgba(60, 64, 67, 0.3), 0 1px 3px 1px rgba(60, 64, 67, 0.15);\n",
       "    fill: var(--button-hover-fill-color);\n",
       "  }\n",
       "\n",
       "  .colab-df-quickchart-complete:disabled,\n",
       "  .colab-df-quickchart-complete:disabled:hover {\n",
       "    background-color: var(--disabled-bg-color);\n",
       "    fill: var(--disabled-fill-color);\n",
       "    box-shadow: none;\n",
       "  }\n",
       "\n",
       "  .colab-df-spinner {\n",
       "    border: 2px solid var(--fill-color);\n",
       "    border-color: transparent;\n",
       "    border-bottom-color: var(--fill-color);\n",
       "    animation:\n",
       "      spin 1s steps(1) infinite;\n",
       "  }\n",
       "\n",
       "  @keyframes spin {\n",
       "    0% {\n",
       "      border-color: transparent;\n",
       "      border-bottom-color: var(--fill-color);\n",
       "      border-left-color: var(--fill-color);\n",
       "    }\n",
       "    20% {\n",
       "      border-color: transparent;\n",
       "      border-left-color: var(--fill-color);\n",
       "      border-top-color: var(--fill-color);\n",
       "    }\n",
       "    30% {\n",
       "      border-color: transparent;\n",
       "      border-left-color: var(--fill-color);\n",
       "      border-top-color: var(--fill-color);\n",
       "      border-right-color: var(--fill-color);\n",
       "    }\n",
       "    40% {\n",
       "      border-color: transparent;\n",
       "      border-right-color: var(--fill-color);\n",
       "      border-top-color: var(--fill-color);\n",
       "    }\n",
       "    60% {\n",
       "      border-color: transparent;\n",
       "      border-right-color: var(--fill-color);\n",
       "    }\n",
       "    80% {\n",
       "      border-color: transparent;\n",
       "      border-right-color: var(--fill-color);\n",
       "      border-bottom-color: var(--fill-color);\n",
       "    }\n",
       "    90% {\n",
       "      border-color: transparent;\n",
       "      border-bottom-color: var(--fill-color);\n",
       "    }\n",
       "  }\n",
       "</style>\n",
       "\n",
       "  <script>\n",
       "    async function quickchart(key) {\n",
       "      const quickchartButtonEl =\n",
       "        document.querySelector('#' + key + ' button');\n",
       "      quickchartButtonEl.disabled = true;  // To prevent multiple clicks.\n",
       "      quickchartButtonEl.classList.add('colab-df-spinner');\n",
       "      try {\n",
       "        const charts = await google.colab.kernel.invokeFunction(\n",
       "            'suggestCharts', [key], {});\n",
       "      } catch (error) {\n",
       "        console.error('Error during call to suggestCharts:', error);\n",
       "      }\n",
       "      quickchartButtonEl.classList.remove('colab-df-spinner');\n",
       "      quickchartButtonEl.classList.add('colab-df-quickchart-complete');\n",
       "    }\n",
       "    (() => {\n",
       "      let quickchartButtonEl =\n",
       "        document.querySelector('#df-09cf0a0a-0d23-470a-9b8c-dabe70a96b7a button');\n",
       "      quickchartButtonEl.style.display =\n",
       "        google.colab.kernel.accessAllowed ? 'block' : 'none';\n",
       "    })();\n",
       "  </script>\n",
       "</div>\n",
       "    </div>\n",
       "  </div>\n"
      ],
      "text/plain": [
       "                                                text  has_personal_data\n",
       "0  Enjoy of woman computer. Trip soon law claim s...                  0\n",
       "1  Available color simple Democrat good then stro...                  0\n",
       "2  Andrew Mathis lindawatkins@gmail.com 2003-05-0...                  1\n",
       "3  sbridges@hotmail.com Kathleen Robertson Nothin...                  1\n",
       "4  Together ever in spend little argue some.\\nLis...                  0\n",
       "5  Two woman face their language hour. Like bill ...                  0\n",
       "6                            John Baker 752-234-8279                  1\n",
       "7  Like relationship where represent. Give nation...                  0\n",
       "8  1991-02-10 joyceralph@gmail.com Race between c...                  1\n",
       "9  Create check begin model feeling throughout. F...                  0"
      ]
     },
     "execution_count": 8,
     "metadata": {},
     "output_type": "execute_result"
    }
   ],
   "source": [
    "# Select rows where has_personal_data is 1\n",
    "has_personal_data_1 = df[df['has_personal_data'] == 1]\n",
    "\n",
    "# Select rows where has_personal_data is 0\n",
    "has_personal_data_0 = df[df['has_personal_data'] == 0]\n",
    "\n",
    "# Determine the minimum number of rows for each group.\n",
    "num_samples = 500_000\n",
    "\n",
    "# Sample an equal number of rows from each group\n",
    "balanced_df = pd.concat([has_personal_data_0.sample(n=num_samples, random_state=421),\n",
    "                             has_personal_data_1.sample(n=num_samples , random_state=421)])\n",
    "\n",
    "# Reset index if needed and  Shuffle the DataFrame\n",
    "balanced_df = balanced_df.sample(frac=1, random_state=421).reset_index(drop=True)\n",
    "balanced_df.head(10)"
   ]
  },
  {
   "cell_type": "code",
   "execution_count": null,
   "id": "e82vFQXAwWP-",
   "metadata": {
    "colab": {
     "base_uri": "https://localhost:8080/"
    },
    "execution": {
     "iopub.execute_input": "2024-02-12T19:10:06.353637Z",
     "iopub.status.busy": "2024-02-12T19:10:06.353315Z",
     "iopub.status.idle": "2024-02-12T19:10:06.582358Z",
     "shell.execute_reply": "2024-02-12T19:10:06.581410Z",
     "shell.execute_reply.started": "2024-02-12T19:10:06.353613Z"
    },
    "id": "e82vFQXAwWP-",
    "outputId": "44735b8f-c7d5-4a78-e63c-6c7237972ddd"
   },
   "outputs": [
    {
     "data": {
      "text/plain": [
       "True"
      ]
     },
     "execution_count": 9,
     "metadata": {},
     "output_type": "execute_result"
    }
   ],
   "source": [
    "# Check whether the dataset is balanced or not\n",
    "balanced_df[balanced_df['has_personal_data']== 0].shape[0] == balanced_df[balanced_df['has_personal_data']== 1].shape[0]"
   ]
  },
  {
   "cell_type": "code",
   "execution_count": null,
   "id": "kb1_kM8zwWP-",
   "metadata": {
    "execution": {
     "iopub.execute_input": "2024-02-11T20:34:16.580706Z",
     "iopub.status.busy": "2024-02-11T20:34:16.580427Z",
     "iopub.status.idle": "2024-02-11T20:34:16.586968Z",
     "shell.execute_reply": "2024-02-11T20:34:16.586189Z",
     "shell.execute_reply.started": "2024-02-11T20:34:16.580682Z"
    },
    "id": "kb1_kM8zwWP-"
   },
   "outputs": [],
   "source": [
    "# # If dataset is imbalanced,\n",
    "## a) Sepparate the DataFrame into two based on the 'has_personal_data' column\n",
    "# df_0 = df[df['has_personal_data'] == 0]\n",
    "# df_1 = df[df['has_personal_data'] == 1]\n",
    "\n",
    "# # b) Sample from the larger class to match the size of the smaller class\n",
    "# df_0_balanced = df_0.sample(n=len(df_1), replace=False, random_state=42)\n",
    "\n",
    "# # c) Concatenate the balanced subsets\n",
    "# balanced_df = pd.concat([df_0_balanced, df_1])\n",
    "\n",
    "# # d) Shuffle the concatenated DataFrame and export it\n",
    "# balanced_df = balanced_df.sample(frac=1, random_state=42).reset_index(drop=True)\n",
    "# file_name = 'synthetic_data_10m_balanced.parquet'\n",
    "# balanced_df.to_parquet(file_name, index=False, compression='gzip')\n"
   ]
  },
  {
   "cell_type": "markdown",
   "id": "9-0ReYuGuQdZ",
   "metadata": {
    "collapsed": false,
    "id": "9-0ReYuGuQdZ",
    "jupyter": {
     "outputs_hidden": false
    }
   },
   "source": [
    "## 3.2 Split data into train, validation, and test sets"
   ]
  },
  {
   "cell_type": "code",
   "execution_count": null,
   "id": "EB1EVxHZqNX3",
   "metadata": {
    "colab": {
     "base_uri": "https://localhost:8080/",
     "height": 424
    },
    "execution": {
     "iopub.execute_input": "2024-02-12T19:10:18.210477Z",
     "iopub.status.busy": "2024-02-12T19:10:18.209691Z",
     "iopub.status.idle": "2024-02-12T19:10:20.447478Z",
     "shell.execute_reply": "2024-02-12T19:10:20.446358Z",
     "shell.execute_reply.started": "2024-02-12T19:10:18.210448Z"
    },
    "id": "EB1EVxHZqNX3",
    "outputId": "cc3a1b34-ea62-4b98-b1bb-b85409ab7469"
   },
   "outputs": [
    {
     "data": {
      "text/html": [
       "\n",
       "  <div id=\"df-92f33d31-2de9-42fe-8b9c-846d12ec4542\" class=\"colab-df-container\">\n",
       "    <div>\n",
       "<style scoped>\n",
       "    .dataframe tbody tr th:only-of-type {\n",
       "        vertical-align: middle;\n",
       "    }\n",
       "\n",
       "    .dataframe tbody tr th {\n",
       "        vertical-align: top;\n",
       "    }\n",
       "\n",
       "    .dataframe thead th {\n",
       "        text-align: right;\n",
       "    }\n",
       "</style>\n",
       "<table border=\"1\" class=\"dataframe\">\n",
       "  <thead>\n",
       "    <tr style=\"text-align: right;\">\n",
       "      <th></th>\n",
       "      <th>text</th>\n",
       "      <th>has_personal_data</th>\n",
       "    </tr>\n",
       "  </thead>\n",
       "  <tbody>\n",
       "    <tr>\n",
       "      <th>566853</th>\n",
       "      <td>848-98-7571 danielyork@gmail.com</td>\n",
       "      <td>1</td>\n",
       "    </tr>\n",
       "    <tr>\n",
       "      <th>382311</th>\n",
       "      <td>001-900-404-6417 9252 Seth Corners Suite 538\\n...</td>\n",
       "      <td>1</td>\n",
       "    </tr>\n",
       "    <tr>\n",
       "      <th>241519</th>\n",
       "      <td>Participant receive course every agreement tod...</td>\n",
       "      <td>0</td>\n",
       "    </tr>\n",
       "    <tr>\n",
       "      <th>719220</th>\n",
       "      <td>Television plan must clear. Window change mate...</td>\n",
       "      <td>0</td>\n",
       "    </tr>\n",
       "    <tr>\n",
       "      <th>905718</th>\n",
       "      <td>Address perform end. Man already themselves go...</td>\n",
       "      <td>0</td>\n",
       "    </tr>\n",
       "    <tr>\n",
       "      <th>...</th>\n",
       "      <td>...</td>\n",
       "      <td>...</td>\n",
       "    </tr>\n",
       "    <tr>\n",
       "      <th>259178</th>\n",
       "      <td>dawnbruce@edwards.info 99639 Sarah Summit\\nEas...</td>\n",
       "      <td>1</td>\n",
       "    </tr>\n",
       "    <tr>\n",
       "      <th>365838</th>\n",
       "      <td>For employee ball American training of will. D...</td>\n",
       "      <td>0</td>\n",
       "    </tr>\n",
       "    <tr>\n",
       "      <th>131932</th>\n",
       "      <td>Modern current although area suddenly. Worry d...</td>\n",
       "      <td>0</td>\n",
       "    </tr>\n",
       "    <tr>\n",
       "      <th>671155</th>\n",
       "      <td>Middle option house city tough. Born sure fini...</td>\n",
       "      <td>0</td>\n",
       "    </tr>\n",
       "    <tr>\n",
       "      <th>121958</th>\n",
       "      <td>Local personal us seven discover. Conference o...</td>\n",
       "      <td>0</td>\n",
       "    </tr>\n",
       "  </tbody>\n",
       "</table>\n",
       "<p>800000 rows × 2 columns</p>\n",
       "</div>\n",
       "    <div class=\"colab-df-buttons\">\n",
       "\n",
       "  <div class=\"colab-df-container\">\n",
       "    <button class=\"colab-df-convert\" onclick=\"convertToInteractive('df-92f33d31-2de9-42fe-8b9c-846d12ec4542')\"\n",
       "            title=\"Convert this dataframe to an interactive table.\"\n",
       "            style=\"display:none;\">\n",
       "\n",
       "  <svg xmlns=\"http://www.w3.org/2000/svg\" height=\"24px\" viewBox=\"0 -960 960 960\">\n",
       "    <path d=\"M120-120v-720h720v720H120Zm60-500h600v-160H180v160Zm220 220h160v-160H400v160Zm0 220h160v-160H400v160ZM180-400h160v-160H180v160Zm440 0h160v-160H620v160ZM180-180h160v-160H180v160Zm440 0h160v-160H620v160Z\"/>\n",
       "  </svg>\n",
       "    </button>\n",
       "\n",
       "  <style>\n",
       "    .colab-df-container {\n",
       "      display:flex;\n",
       "      gap: 12px;\n",
       "    }\n",
       "\n",
       "    .colab-df-convert {\n",
       "      background-color: #E8F0FE;\n",
       "      border: none;\n",
       "      border-radius: 50%;\n",
       "      cursor: pointer;\n",
       "      display: none;\n",
       "      fill: #1967D2;\n",
       "      height: 32px;\n",
       "      padding: 0 0 0 0;\n",
       "      width: 32px;\n",
       "    }\n",
       "\n",
       "    .colab-df-convert:hover {\n",
       "      background-color: #E2EBFA;\n",
       "      box-shadow: 0px 1px 2px rgba(60, 64, 67, 0.3), 0px 1px 3px 1px rgba(60, 64, 67, 0.15);\n",
       "      fill: #174EA6;\n",
       "    }\n",
       "\n",
       "    .colab-df-buttons div {\n",
       "      margin-bottom: 4px;\n",
       "    }\n",
       "\n",
       "    [theme=dark] .colab-df-convert {\n",
       "      background-color: #3B4455;\n",
       "      fill: #D2E3FC;\n",
       "    }\n",
       "\n",
       "    [theme=dark] .colab-df-convert:hover {\n",
       "      background-color: #434B5C;\n",
       "      box-shadow: 0px 1px 3px 1px rgba(0, 0, 0, 0.15);\n",
       "      filter: drop-shadow(0px 1px 2px rgba(0, 0, 0, 0.3));\n",
       "      fill: #FFFFFF;\n",
       "    }\n",
       "  </style>\n",
       "\n",
       "    <script>\n",
       "      const buttonEl =\n",
       "        document.querySelector('#df-92f33d31-2de9-42fe-8b9c-846d12ec4542 button.colab-df-convert');\n",
       "      buttonEl.style.display =\n",
       "        google.colab.kernel.accessAllowed ? 'block' : 'none';\n",
       "\n",
       "      async function convertToInteractive(key) {\n",
       "        const element = document.querySelector('#df-92f33d31-2de9-42fe-8b9c-846d12ec4542');\n",
       "        const dataTable =\n",
       "          await google.colab.kernel.invokeFunction('convertToInteractive',\n",
       "                                                    [key], {});\n",
       "        if (!dataTable) return;\n",
       "\n",
       "        const docLinkHtml = 'Like what you see? Visit the ' +\n",
       "          '<a target=\"_blank\" href=https://colab.research.google.com/notebooks/data_table.ipynb>data table notebook</a>'\n",
       "          + ' to learn more about interactive tables.';\n",
       "        element.innerHTML = '';\n",
       "        dataTable['output_type'] = 'display_data';\n",
       "        await google.colab.output.renderOutput(dataTable, element);\n",
       "        const docLink = document.createElement('div');\n",
       "        docLink.innerHTML = docLinkHtml;\n",
       "        element.appendChild(docLink);\n",
       "      }\n",
       "    </script>\n",
       "  </div>\n",
       "\n",
       "\n",
       "<div id=\"df-5dd63226-61f4-4a4c-9ea1-9f96b315bfa4\">\n",
       "  <button class=\"colab-df-quickchart\" onclick=\"quickchart('df-5dd63226-61f4-4a4c-9ea1-9f96b315bfa4')\"\n",
       "            title=\"Suggest charts\"\n",
       "            style=\"display:none;\">\n",
       "\n",
       "<svg xmlns=\"http://www.w3.org/2000/svg\" height=\"24px\"viewBox=\"0 0 24 24\"\n",
       "     width=\"24px\">\n",
       "    <g>\n",
       "        <path d=\"M19 3H5c-1.1 0-2 .9-2 2v14c0 1.1.9 2 2 2h14c1.1 0 2-.9 2-2V5c0-1.1-.9-2-2-2zM9 17H7v-7h2v7zm4 0h-2V7h2v10zm4 0h-2v-4h2v4z\"/>\n",
       "    </g>\n",
       "</svg>\n",
       "  </button>\n",
       "\n",
       "<style>\n",
       "  .colab-df-quickchart {\n",
       "      --bg-color: #E8F0FE;\n",
       "      --fill-color: #1967D2;\n",
       "      --hover-bg-color: #E2EBFA;\n",
       "      --hover-fill-color: #174EA6;\n",
       "      --disabled-fill-color: #AAA;\n",
       "      --disabled-bg-color: #DDD;\n",
       "  }\n",
       "\n",
       "  [theme=dark] .colab-df-quickchart {\n",
       "      --bg-color: #3B4455;\n",
       "      --fill-color: #D2E3FC;\n",
       "      --hover-bg-color: #434B5C;\n",
       "      --hover-fill-color: #FFFFFF;\n",
       "      --disabled-bg-color: #3B4455;\n",
       "      --disabled-fill-color: #666;\n",
       "  }\n",
       "\n",
       "  .colab-df-quickchart {\n",
       "    background-color: var(--bg-color);\n",
       "    border: none;\n",
       "    border-radius: 50%;\n",
       "    cursor: pointer;\n",
       "    display: none;\n",
       "    fill: var(--fill-color);\n",
       "    height: 32px;\n",
       "    padding: 0;\n",
       "    width: 32px;\n",
       "  }\n",
       "\n",
       "  .colab-df-quickchart:hover {\n",
       "    background-color: var(--hover-bg-color);\n",
       "    box-shadow: 0 1px 2px rgba(60, 64, 67, 0.3), 0 1px 3px 1px rgba(60, 64, 67, 0.15);\n",
       "    fill: var(--button-hover-fill-color);\n",
       "  }\n",
       "\n",
       "  .colab-df-quickchart-complete:disabled,\n",
       "  .colab-df-quickchart-complete:disabled:hover {\n",
       "    background-color: var(--disabled-bg-color);\n",
       "    fill: var(--disabled-fill-color);\n",
       "    box-shadow: none;\n",
       "  }\n",
       "\n",
       "  .colab-df-spinner {\n",
       "    border: 2px solid var(--fill-color);\n",
       "    border-color: transparent;\n",
       "    border-bottom-color: var(--fill-color);\n",
       "    animation:\n",
       "      spin 1s steps(1) infinite;\n",
       "  }\n",
       "\n",
       "  @keyframes spin {\n",
       "    0% {\n",
       "      border-color: transparent;\n",
       "      border-bottom-color: var(--fill-color);\n",
       "      border-left-color: var(--fill-color);\n",
       "    }\n",
       "    20% {\n",
       "      border-color: transparent;\n",
       "      border-left-color: var(--fill-color);\n",
       "      border-top-color: var(--fill-color);\n",
       "    }\n",
       "    30% {\n",
       "      border-color: transparent;\n",
       "      border-left-color: var(--fill-color);\n",
       "      border-top-color: var(--fill-color);\n",
       "      border-right-color: var(--fill-color);\n",
       "    }\n",
       "    40% {\n",
       "      border-color: transparent;\n",
       "      border-right-color: var(--fill-color);\n",
       "      border-top-color: var(--fill-color);\n",
       "    }\n",
       "    60% {\n",
       "      border-color: transparent;\n",
       "      border-right-color: var(--fill-color);\n",
       "    }\n",
       "    80% {\n",
       "      border-color: transparent;\n",
       "      border-right-color: var(--fill-color);\n",
       "      border-bottom-color: var(--fill-color);\n",
       "    }\n",
       "    90% {\n",
       "      border-color: transparent;\n",
       "      border-bottom-color: var(--fill-color);\n",
       "    }\n",
       "  }\n",
       "</style>\n",
       "\n",
       "  <script>\n",
       "    async function quickchart(key) {\n",
       "      const quickchartButtonEl =\n",
       "        document.querySelector('#' + key + ' button');\n",
       "      quickchartButtonEl.disabled = true;  // To prevent multiple clicks.\n",
       "      quickchartButtonEl.classList.add('colab-df-spinner');\n",
       "      try {\n",
       "        const charts = await google.colab.kernel.invokeFunction(\n",
       "            'suggestCharts', [key], {});\n",
       "      } catch (error) {\n",
       "        console.error('Error during call to suggestCharts:', error);\n",
       "      }\n",
       "      quickchartButtonEl.classList.remove('colab-df-spinner');\n",
       "      quickchartButtonEl.classList.add('colab-df-quickchart-complete');\n",
       "    }\n",
       "    (() => {\n",
       "      let quickchartButtonEl =\n",
       "        document.querySelector('#df-5dd63226-61f4-4a4c-9ea1-9f96b315bfa4 button');\n",
       "      quickchartButtonEl.style.display =\n",
       "        google.colab.kernel.accessAllowed ? 'block' : 'none';\n",
       "    })();\n",
       "  </script>\n",
       "</div>\n",
       "    </div>\n",
       "  </div>\n"
      ],
      "text/plain": [
       "                                                     text  has_personal_data\n",
       "566853                   848-98-7571 danielyork@gmail.com                  1\n",
       "382311  001-900-404-6417 9252 Seth Corners Suite 538\\n...                  1\n",
       "241519  Participant receive course every agreement tod...                  0\n",
       "719220  Television plan must clear. Window change mate...                  0\n",
       "905718  Address perform end. Man already themselves go...                  0\n",
       "...                                                   ...                ...\n",
       "259178  dawnbruce@edwards.info 99639 Sarah Summit\\nEas...                  1\n",
       "365838  For employee ball American training of will. D...                  0\n",
       "131932  Modern current although area suddenly. Worry d...                  0\n",
       "671155  Middle option house city tough. Born sure fini...                  0\n",
       "121958  Local personal us seven discover. Conference o...                  0\n",
       "\n",
       "[800000 rows x 2 columns]"
      ]
     },
     "execution_count": 11,
     "metadata": {},
     "output_type": "execute_result"
    }
   ],
   "source": [
    "# Split the data into training and testing sets\n",
    "train_df, test_df = train_test_split(balanced_df, test_size=0.2, random_state=42)\n",
    "test_df, validation_df = train_test_split(test_df, test_size=0.5, random_state=42)\n",
    "train_df"
   ]
  },
  {
   "cell_type": "code",
   "execution_count": null,
   "id": "01zgysWIuQdZ",
   "metadata": {
    "colab": {
     "base_uri": "https://localhost:8080/",
     "height": 424
    },
    "execution": {
     "iopub.execute_input": "2024-02-12T19:10:30.781216Z",
     "iopub.status.busy": "2024-02-12T19:10:30.780319Z",
     "iopub.status.idle": "2024-02-12T19:10:30.791888Z",
     "shell.execute_reply": "2024-02-12T19:10:30.790787Z",
     "shell.execute_reply.started": "2024-02-12T19:10:30.781182Z"
    },
    "id": "01zgysWIuQdZ",
    "outputId": "ee2d4675-94f1-47c5-abc2-cb2224c49486"
   },
   "outputs": [
    {
     "data": {
      "text/html": [
       "\n",
       "  <div id=\"df-a29d0900-3d83-4087-9538-5a256a0c8c78\" class=\"colab-df-container\">\n",
       "    <div>\n",
       "<style scoped>\n",
       "    .dataframe tbody tr th:only-of-type {\n",
       "        vertical-align: middle;\n",
       "    }\n",
       "\n",
       "    .dataframe tbody tr th {\n",
       "        vertical-align: top;\n",
       "    }\n",
       "\n",
       "    .dataframe thead th {\n",
       "        text-align: right;\n",
       "    }\n",
       "</style>\n",
       "<table border=\"1\" class=\"dataframe\">\n",
       "  <thead>\n",
       "    <tr style=\"text-align: right;\">\n",
       "      <th></th>\n",
       "      <th>text</th>\n",
       "      <th>has_personal_data</th>\n",
       "    </tr>\n",
       "  </thead>\n",
       "  <tbody>\n",
       "    <tr>\n",
       "      <th>803899</th>\n",
       "      <td>Kitchen adult home stop. Republican would inde...</td>\n",
       "      <td>0</td>\n",
       "    </tr>\n",
       "    <tr>\n",
       "      <th>624862</th>\n",
       "      <td>Pull Democrat piece join decide left others. W...</td>\n",
       "      <td>0</td>\n",
       "    </tr>\n",
       "    <tr>\n",
       "      <th>666323</th>\n",
       "      <td>Production almost responsibility. Not responsi...</td>\n",
       "      <td>0</td>\n",
       "    </tr>\n",
       "    <tr>\n",
       "      <th>742056</th>\n",
       "      <td>Religious family move as sister. Course still ...</td>\n",
       "      <td>0</td>\n",
       "    </tr>\n",
       "    <tr>\n",
       "      <th>896804</th>\n",
       "      <td>Stand produce once difference writer yeah. Cam...</td>\n",
       "      <td>0</td>\n",
       "    </tr>\n",
       "    <tr>\n",
       "      <th>...</th>\n",
       "      <td>...</td>\n",
       "      <td>...</td>\n",
       "    </tr>\n",
       "    <tr>\n",
       "      <th>146165</th>\n",
       "      <td>Seven land ball pattern social back. Picture M...</td>\n",
       "      <td>0</td>\n",
       "    </tr>\n",
       "    <tr>\n",
       "      <th>927253</th>\n",
       "      <td>913-562-1286x708</td>\n",
       "      <td>1</td>\n",
       "    </tr>\n",
       "    <tr>\n",
       "      <th>392080</th>\n",
       "      <td>Tyler Shelton vbrown@moreno.com</td>\n",
       "      <td>1</td>\n",
       "    </tr>\n",
       "    <tr>\n",
       "      <th>669591</th>\n",
       "      <td>Steven Chapman Mrs. Alicia Lopez MD 83077 Brad...</td>\n",
       "      <td>1</td>\n",
       "    </tr>\n",
       "    <tr>\n",
       "      <th>683726</th>\n",
       "      <td>Treat hold staff sort about green red. Approac...</td>\n",
       "      <td>0</td>\n",
       "    </tr>\n",
       "  </tbody>\n",
       "</table>\n",
       "<p>100000 rows × 2 columns</p>\n",
       "</div>\n",
       "    <div class=\"colab-df-buttons\">\n",
       "\n",
       "  <div class=\"colab-df-container\">\n",
       "    <button class=\"colab-df-convert\" onclick=\"convertToInteractive('df-a29d0900-3d83-4087-9538-5a256a0c8c78')\"\n",
       "            title=\"Convert this dataframe to an interactive table.\"\n",
       "            style=\"display:none;\">\n",
       "\n",
       "  <svg xmlns=\"http://www.w3.org/2000/svg\" height=\"24px\" viewBox=\"0 -960 960 960\">\n",
       "    <path d=\"M120-120v-720h720v720H120Zm60-500h600v-160H180v160Zm220 220h160v-160H400v160Zm0 220h160v-160H400v160ZM180-400h160v-160H180v160Zm440 0h160v-160H620v160ZM180-180h160v-160H180v160Zm440 0h160v-160H620v160Z\"/>\n",
       "  </svg>\n",
       "    </button>\n",
       "\n",
       "  <style>\n",
       "    .colab-df-container {\n",
       "      display:flex;\n",
       "      gap: 12px;\n",
       "    }\n",
       "\n",
       "    .colab-df-convert {\n",
       "      background-color: #E8F0FE;\n",
       "      border: none;\n",
       "      border-radius: 50%;\n",
       "      cursor: pointer;\n",
       "      display: none;\n",
       "      fill: #1967D2;\n",
       "      height: 32px;\n",
       "      padding: 0 0 0 0;\n",
       "      width: 32px;\n",
       "    }\n",
       "\n",
       "    .colab-df-convert:hover {\n",
       "      background-color: #E2EBFA;\n",
       "      box-shadow: 0px 1px 2px rgba(60, 64, 67, 0.3), 0px 1px 3px 1px rgba(60, 64, 67, 0.15);\n",
       "      fill: #174EA6;\n",
       "    }\n",
       "\n",
       "    .colab-df-buttons div {\n",
       "      margin-bottom: 4px;\n",
       "    }\n",
       "\n",
       "    [theme=dark] .colab-df-convert {\n",
       "      background-color: #3B4455;\n",
       "      fill: #D2E3FC;\n",
       "    }\n",
       "\n",
       "    [theme=dark] .colab-df-convert:hover {\n",
       "      background-color: #434B5C;\n",
       "      box-shadow: 0px 1px 3px 1px rgba(0, 0, 0, 0.15);\n",
       "      filter: drop-shadow(0px 1px 2px rgba(0, 0, 0, 0.3));\n",
       "      fill: #FFFFFF;\n",
       "    }\n",
       "  </style>\n",
       "\n",
       "    <script>\n",
       "      const buttonEl =\n",
       "        document.querySelector('#df-a29d0900-3d83-4087-9538-5a256a0c8c78 button.colab-df-convert');\n",
       "      buttonEl.style.display =\n",
       "        google.colab.kernel.accessAllowed ? 'block' : 'none';\n",
       "\n",
       "      async function convertToInteractive(key) {\n",
       "        const element = document.querySelector('#df-a29d0900-3d83-4087-9538-5a256a0c8c78');\n",
       "        const dataTable =\n",
       "          await google.colab.kernel.invokeFunction('convertToInteractive',\n",
       "                                                    [key], {});\n",
       "        if (!dataTable) return;\n",
       "\n",
       "        const docLinkHtml = 'Like what you see? Visit the ' +\n",
       "          '<a target=\"_blank\" href=https://colab.research.google.com/notebooks/data_table.ipynb>data table notebook</a>'\n",
       "          + ' to learn more about interactive tables.';\n",
       "        element.innerHTML = '';\n",
       "        dataTable['output_type'] = 'display_data';\n",
       "        await google.colab.output.renderOutput(dataTable, element);\n",
       "        const docLink = document.createElement('div');\n",
       "        docLink.innerHTML = docLinkHtml;\n",
       "        element.appendChild(docLink);\n",
       "      }\n",
       "    </script>\n",
       "  </div>\n",
       "\n",
       "\n",
       "<div id=\"df-4120b149-4298-40f1-abf4-e3383556815d\">\n",
       "  <button class=\"colab-df-quickchart\" onclick=\"quickchart('df-4120b149-4298-40f1-abf4-e3383556815d')\"\n",
       "            title=\"Suggest charts\"\n",
       "            style=\"display:none;\">\n",
       "\n",
       "<svg xmlns=\"http://www.w3.org/2000/svg\" height=\"24px\"viewBox=\"0 0 24 24\"\n",
       "     width=\"24px\">\n",
       "    <g>\n",
       "        <path d=\"M19 3H5c-1.1 0-2 .9-2 2v14c0 1.1.9 2 2 2h14c1.1 0 2-.9 2-2V5c0-1.1-.9-2-2-2zM9 17H7v-7h2v7zm4 0h-2V7h2v10zm4 0h-2v-4h2v4z\"/>\n",
       "    </g>\n",
       "</svg>\n",
       "  </button>\n",
       "\n",
       "<style>\n",
       "  .colab-df-quickchart {\n",
       "      --bg-color: #E8F0FE;\n",
       "      --fill-color: #1967D2;\n",
       "      --hover-bg-color: #E2EBFA;\n",
       "      --hover-fill-color: #174EA6;\n",
       "      --disabled-fill-color: #AAA;\n",
       "      --disabled-bg-color: #DDD;\n",
       "  }\n",
       "\n",
       "  [theme=dark] .colab-df-quickchart {\n",
       "      --bg-color: #3B4455;\n",
       "      --fill-color: #D2E3FC;\n",
       "      --hover-bg-color: #434B5C;\n",
       "      --hover-fill-color: #FFFFFF;\n",
       "      --disabled-bg-color: #3B4455;\n",
       "      --disabled-fill-color: #666;\n",
       "  }\n",
       "\n",
       "  .colab-df-quickchart {\n",
       "    background-color: var(--bg-color);\n",
       "    border: none;\n",
       "    border-radius: 50%;\n",
       "    cursor: pointer;\n",
       "    display: none;\n",
       "    fill: var(--fill-color);\n",
       "    height: 32px;\n",
       "    padding: 0;\n",
       "    width: 32px;\n",
       "  }\n",
       "\n",
       "  .colab-df-quickchart:hover {\n",
       "    background-color: var(--hover-bg-color);\n",
       "    box-shadow: 0 1px 2px rgba(60, 64, 67, 0.3), 0 1px 3px 1px rgba(60, 64, 67, 0.15);\n",
       "    fill: var(--button-hover-fill-color);\n",
       "  }\n",
       "\n",
       "  .colab-df-quickchart-complete:disabled,\n",
       "  .colab-df-quickchart-complete:disabled:hover {\n",
       "    background-color: var(--disabled-bg-color);\n",
       "    fill: var(--disabled-fill-color);\n",
       "    box-shadow: none;\n",
       "  }\n",
       "\n",
       "  .colab-df-spinner {\n",
       "    border: 2px solid var(--fill-color);\n",
       "    border-color: transparent;\n",
       "    border-bottom-color: var(--fill-color);\n",
       "    animation:\n",
       "      spin 1s steps(1) infinite;\n",
       "  }\n",
       "\n",
       "  @keyframes spin {\n",
       "    0% {\n",
       "      border-color: transparent;\n",
       "      border-bottom-color: var(--fill-color);\n",
       "      border-left-color: var(--fill-color);\n",
       "    }\n",
       "    20% {\n",
       "      border-color: transparent;\n",
       "      border-left-color: var(--fill-color);\n",
       "      border-top-color: var(--fill-color);\n",
       "    }\n",
       "    30% {\n",
       "      border-color: transparent;\n",
       "      border-left-color: var(--fill-color);\n",
       "      border-top-color: var(--fill-color);\n",
       "      border-right-color: var(--fill-color);\n",
       "    }\n",
       "    40% {\n",
       "      border-color: transparent;\n",
       "      border-right-color: var(--fill-color);\n",
       "      border-top-color: var(--fill-color);\n",
       "    }\n",
       "    60% {\n",
       "      border-color: transparent;\n",
       "      border-right-color: var(--fill-color);\n",
       "    }\n",
       "    80% {\n",
       "      border-color: transparent;\n",
       "      border-right-color: var(--fill-color);\n",
       "      border-bottom-color: var(--fill-color);\n",
       "    }\n",
       "    90% {\n",
       "      border-color: transparent;\n",
       "      border-bottom-color: var(--fill-color);\n",
       "    }\n",
       "  }\n",
       "</style>\n",
       "\n",
       "  <script>\n",
       "    async function quickchart(key) {\n",
       "      const quickchartButtonEl =\n",
       "        document.querySelector('#' + key + ' button');\n",
       "      quickchartButtonEl.disabled = true;  // To prevent multiple clicks.\n",
       "      quickchartButtonEl.classList.add('colab-df-spinner');\n",
       "      try {\n",
       "        const charts = await google.colab.kernel.invokeFunction(\n",
       "            'suggestCharts', [key], {});\n",
       "      } catch (error) {\n",
       "        console.error('Error during call to suggestCharts:', error);\n",
       "      }\n",
       "      quickchartButtonEl.classList.remove('colab-df-spinner');\n",
       "      quickchartButtonEl.classList.add('colab-df-quickchart-complete');\n",
       "    }\n",
       "    (() => {\n",
       "      let quickchartButtonEl =\n",
       "        document.querySelector('#df-4120b149-4298-40f1-abf4-e3383556815d button');\n",
       "      quickchartButtonEl.style.display =\n",
       "        google.colab.kernel.accessAllowed ? 'block' : 'none';\n",
       "    })();\n",
       "  </script>\n",
       "</div>\n",
       "    </div>\n",
       "  </div>\n"
      ],
      "text/plain": [
       "                                                     text  has_personal_data\n",
       "803899  Kitchen adult home stop. Republican would inde...                  0\n",
       "624862  Pull Democrat piece join decide left others. W...                  0\n",
       "666323  Production almost responsibility. Not responsi...                  0\n",
       "742056  Religious family move as sister. Course still ...                  0\n",
       "896804  Stand produce once difference writer yeah. Cam...                  0\n",
       "...                                                   ...                ...\n",
       "146165  Seven land ball pattern social back. Picture M...                  0\n",
       "927253                                   913-562-1286x708                  1\n",
       "392080                    Tyler Shelton vbrown@moreno.com                  1\n",
       "669591  Steven Chapman Mrs. Alicia Lopez MD 83077 Brad...                  1\n",
       "683726  Treat hold staff sort about green red. Approac...                  0\n",
       "\n",
       "[100000 rows x 2 columns]"
      ]
     },
     "execution_count": 12,
     "metadata": {},
     "output_type": "execute_result"
    }
   ],
   "source": [
    "test_df"
   ]
  },
  {
   "cell_type": "code",
   "execution_count": null,
   "id": "L6o49lj9uQdZ",
   "metadata": {
    "colab": {
     "base_uri": "https://localhost:8080/",
     "height": 424
    },
    "execution": {
     "iopub.execute_input": "2024-02-12T19:10:31.489945Z",
     "iopub.status.busy": "2024-02-12T19:10:31.489568Z",
     "iopub.status.idle": "2024-02-12T19:10:31.500816Z",
     "shell.execute_reply": "2024-02-12T19:10:31.499932Z",
     "shell.execute_reply.started": "2024-02-12T19:10:31.489916Z"
    },
    "id": "L6o49lj9uQdZ",
    "outputId": "589600e5-f979-49fb-fff6-b590e53ef717"
   },
   "outputs": [
    {
     "data": {
      "text/html": [
       "\n",
       "  <div id=\"df-5e952d3f-e0fd-4f38-af76-18d3480a0504\" class=\"colab-df-container\">\n",
       "    <div>\n",
       "<style scoped>\n",
       "    .dataframe tbody tr th:only-of-type {\n",
       "        vertical-align: middle;\n",
       "    }\n",
       "\n",
       "    .dataframe tbody tr th {\n",
       "        vertical-align: top;\n",
       "    }\n",
       "\n",
       "    .dataframe thead th {\n",
       "        text-align: right;\n",
       "    }\n",
       "</style>\n",
       "<table border=\"1\" class=\"dataframe\">\n",
       "  <thead>\n",
       "    <tr style=\"text-align: right;\">\n",
       "      <th></th>\n",
       "      <th>text</th>\n",
       "      <th>has_personal_data</th>\n",
       "    </tr>\n",
       "  </thead>\n",
       "  <tbody>\n",
       "    <tr>\n",
       "      <th>333823</th>\n",
       "      <td>Notice price by race final idea.\\nWhile choose...</td>\n",
       "      <td>0</td>\n",
       "    </tr>\n",
       "    <tr>\n",
       "      <th>654420</th>\n",
       "      <td>Speak happy arrive though. Power street person...</td>\n",
       "      <td>0</td>\n",
       "    </tr>\n",
       "    <tr>\n",
       "      <th>744810</th>\n",
       "      <td>sullivankeith@gmail.com</td>\n",
       "      <td>1</td>\n",
       "    </tr>\n",
       "    <tr>\n",
       "      <th>289997</th>\n",
       "      <td>william69@carr.org 1977-04-18 137 Johnson Driv...</td>\n",
       "      <td>1</td>\n",
       "    </tr>\n",
       "    <tr>\n",
       "      <th>518932</th>\n",
       "      <td>Billy Garcia 42291 Anthony Port Apt. 121\\nAnde...</td>\n",
       "      <td>1</td>\n",
       "    </tr>\n",
       "    <tr>\n",
       "      <th>...</th>\n",
       "      <td>...</td>\n",
       "      <td>...</td>\n",
       "    </tr>\n",
       "    <tr>\n",
       "      <th>680785</th>\n",
       "      <td>edward15@gmail.com</td>\n",
       "      <td>1</td>\n",
       "    </tr>\n",
       "    <tr>\n",
       "      <th>841578</th>\n",
       "      <td>506 Bush Throughway Suite 166\\nFieldsburgh, NJ...</td>\n",
       "      <td>1</td>\n",
       "    </tr>\n",
       "    <tr>\n",
       "      <th>922188</th>\n",
       "      <td>Stephen Holloway +1-971-246-4483x90144 1599 Ba...</td>\n",
       "      <td>1</td>\n",
       "    </tr>\n",
       "    <tr>\n",
       "      <th>674157</th>\n",
       "      <td>Cell many reduce determine. Our best if pictur...</td>\n",
       "      <td>0</td>\n",
       "    </tr>\n",
       "    <tr>\n",
       "      <th>709028</th>\n",
       "      <td>Voice person travel executive approach. Scene ...</td>\n",
       "      <td>0</td>\n",
       "    </tr>\n",
       "  </tbody>\n",
       "</table>\n",
       "<p>100000 rows × 2 columns</p>\n",
       "</div>\n",
       "    <div class=\"colab-df-buttons\">\n",
       "\n",
       "  <div class=\"colab-df-container\">\n",
       "    <button class=\"colab-df-convert\" onclick=\"convertToInteractive('df-5e952d3f-e0fd-4f38-af76-18d3480a0504')\"\n",
       "            title=\"Convert this dataframe to an interactive table.\"\n",
       "            style=\"display:none;\">\n",
       "\n",
       "  <svg xmlns=\"http://www.w3.org/2000/svg\" height=\"24px\" viewBox=\"0 -960 960 960\">\n",
       "    <path d=\"M120-120v-720h720v720H120Zm60-500h600v-160H180v160Zm220 220h160v-160H400v160Zm0 220h160v-160H400v160ZM180-400h160v-160H180v160Zm440 0h160v-160H620v160ZM180-180h160v-160H180v160Zm440 0h160v-160H620v160Z\"/>\n",
       "  </svg>\n",
       "    </button>\n",
       "\n",
       "  <style>\n",
       "    .colab-df-container {\n",
       "      display:flex;\n",
       "      gap: 12px;\n",
       "    }\n",
       "\n",
       "    .colab-df-convert {\n",
       "      background-color: #E8F0FE;\n",
       "      border: none;\n",
       "      border-radius: 50%;\n",
       "      cursor: pointer;\n",
       "      display: none;\n",
       "      fill: #1967D2;\n",
       "      height: 32px;\n",
       "      padding: 0 0 0 0;\n",
       "      width: 32px;\n",
       "    }\n",
       "\n",
       "    .colab-df-convert:hover {\n",
       "      background-color: #E2EBFA;\n",
       "      box-shadow: 0px 1px 2px rgba(60, 64, 67, 0.3), 0px 1px 3px 1px rgba(60, 64, 67, 0.15);\n",
       "      fill: #174EA6;\n",
       "    }\n",
       "\n",
       "    .colab-df-buttons div {\n",
       "      margin-bottom: 4px;\n",
       "    }\n",
       "\n",
       "    [theme=dark] .colab-df-convert {\n",
       "      background-color: #3B4455;\n",
       "      fill: #D2E3FC;\n",
       "    }\n",
       "\n",
       "    [theme=dark] .colab-df-convert:hover {\n",
       "      background-color: #434B5C;\n",
       "      box-shadow: 0px 1px 3px 1px rgba(0, 0, 0, 0.15);\n",
       "      filter: drop-shadow(0px 1px 2px rgba(0, 0, 0, 0.3));\n",
       "      fill: #FFFFFF;\n",
       "    }\n",
       "  </style>\n",
       "\n",
       "    <script>\n",
       "      const buttonEl =\n",
       "        document.querySelector('#df-5e952d3f-e0fd-4f38-af76-18d3480a0504 button.colab-df-convert');\n",
       "      buttonEl.style.display =\n",
       "        google.colab.kernel.accessAllowed ? 'block' : 'none';\n",
       "\n",
       "      async function convertToInteractive(key) {\n",
       "        const element = document.querySelector('#df-5e952d3f-e0fd-4f38-af76-18d3480a0504');\n",
       "        const dataTable =\n",
       "          await google.colab.kernel.invokeFunction('convertToInteractive',\n",
       "                                                    [key], {});\n",
       "        if (!dataTable) return;\n",
       "\n",
       "        const docLinkHtml = 'Like what you see? Visit the ' +\n",
       "          '<a target=\"_blank\" href=https://colab.research.google.com/notebooks/data_table.ipynb>data table notebook</a>'\n",
       "          + ' to learn more about interactive tables.';\n",
       "        element.innerHTML = '';\n",
       "        dataTable['output_type'] = 'display_data';\n",
       "        await google.colab.output.renderOutput(dataTable, element);\n",
       "        const docLink = document.createElement('div');\n",
       "        docLink.innerHTML = docLinkHtml;\n",
       "        element.appendChild(docLink);\n",
       "      }\n",
       "    </script>\n",
       "  </div>\n",
       "\n",
       "\n",
       "<div id=\"df-a62d3dda-4749-42d9-b47d-f8f02b2d829e\">\n",
       "  <button class=\"colab-df-quickchart\" onclick=\"quickchart('df-a62d3dda-4749-42d9-b47d-f8f02b2d829e')\"\n",
       "            title=\"Suggest charts\"\n",
       "            style=\"display:none;\">\n",
       "\n",
       "<svg xmlns=\"http://www.w3.org/2000/svg\" height=\"24px\"viewBox=\"0 0 24 24\"\n",
       "     width=\"24px\">\n",
       "    <g>\n",
       "        <path d=\"M19 3H5c-1.1 0-2 .9-2 2v14c0 1.1.9 2 2 2h14c1.1 0 2-.9 2-2V5c0-1.1-.9-2-2-2zM9 17H7v-7h2v7zm4 0h-2V7h2v10zm4 0h-2v-4h2v4z\"/>\n",
       "    </g>\n",
       "</svg>\n",
       "  </button>\n",
       "\n",
       "<style>\n",
       "  .colab-df-quickchart {\n",
       "      --bg-color: #E8F0FE;\n",
       "      --fill-color: #1967D2;\n",
       "      --hover-bg-color: #E2EBFA;\n",
       "      --hover-fill-color: #174EA6;\n",
       "      --disabled-fill-color: #AAA;\n",
       "      --disabled-bg-color: #DDD;\n",
       "  }\n",
       "\n",
       "  [theme=dark] .colab-df-quickchart {\n",
       "      --bg-color: #3B4455;\n",
       "      --fill-color: #D2E3FC;\n",
       "      --hover-bg-color: #434B5C;\n",
       "      --hover-fill-color: #FFFFFF;\n",
       "      --disabled-bg-color: #3B4455;\n",
       "      --disabled-fill-color: #666;\n",
       "  }\n",
       "\n",
       "  .colab-df-quickchart {\n",
       "    background-color: var(--bg-color);\n",
       "    border: none;\n",
       "    border-radius: 50%;\n",
       "    cursor: pointer;\n",
       "    display: none;\n",
       "    fill: var(--fill-color);\n",
       "    height: 32px;\n",
       "    padding: 0;\n",
       "    width: 32px;\n",
       "  }\n",
       "\n",
       "  .colab-df-quickchart:hover {\n",
       "    background-color: var(--hover-bg-color);\n",
       "    box-shadow: 0 1px 2px rgba(60, 64, 67, 0.3), 0 1px 3px 1px rgba(60, 64, 67, 0.15);\n",
       "    fill: var(--button-hover-fill-color);\n",
       "  }\n",
       "\n",
       "  .colab-df-quickchart-complete:disabled,\n",
       "  .colab-df-quickchart-complete:disabled:hover {\n",
       "    background-color: var(--disabled-bg-color);\n",
       "    fill: var(--disabled-fill-color);\n",
       "    box-shadow: none;\n",
       "  }\n",
       "\n",
       "  .colab-df-spinner {\n",
       "    border: 2px solid var(--fill-color);\n",
       "    border-color: transparent;\n",
       "    border-bottom-color: var(--fill-color);\n",
       "    animation:\n",
       "      spin 1s steps(1) infinite;\n",
       "  }\n",
       "\n",
       "  @keyframes spin {\n",
       "    0% {\n",
       "      border-color: transparent;\n",
       "      border-bottom-color: var(--fill-color);\n",
       "      border-left-color: var(--fill-color);\n",
       "    }\n",
       "    20% {\n",
       "      border-color: transparent;\n",
       "      border-left-color: var(--fill-color);\n",
       "      border-top-color: var(--fill-color);\n",
       "    }\n",
       "    30% {\n",
       "      border-color: transparent;\n",
       "      border-left-color: var(--fill-color);\n",
       "      border-top-color: var(--fill-color);\n",
       "      border-right-color: var(--fill-color);\n",
       "    }\n",
       "    40% {\n",
       "      border-color: transparent;\n",
       "      border-right-color: var(--fill-color);\n",
       "      border-top-color: var(--fill-color);\n",
       "    }\n",
       "    60% {\n",
       "      border-color: transparent;\n",
       "      border-right-color: var(--fill-color);\n",
       "    }\n",
       "    80% {\n",
       "      border-color: transparent;\n",
       "      border-right-color: var(--fill-color);\n",
       "      border-bottom-color: var(--fill-color);\n",
       "    }\n",
       "    90% {\n",
       "      border-color: transparent;\n",
       "      border-bottom-color: var(--fill-color);\n",
       "    }\n",
       "  }\n",
       "</style>\n",
       "\n",
       "  <script>\n",
       "    async function quickchart(key) {\n",
       "      const quickchartButtonEl =\n",
       "        document.querySelector('#' + key + ' button');\n",
       "      quickchartButtonEl.disabled = true;  // To prevent multiple clicks.\n",
       "      quickchartButtonEl.classList.add('colab-df-spinner');\n",
       "      try {\n",
       "        const charts = await google.colab.kernel.invokeFunction(\n",
       "            'suggestCharts', [key], {});\n",
       "      } catch (error) {\n",
       "        console.error('Error during call to suggestCharts:', error);\n",
       "      }\n",
       "      quickchartButtonEl.classList.remove('colab-df-spinner');\n",
       "      quickchartButtonEl.classList.add('colab-df-quickchart-complete');\n",
       "    }\n",
       "    (() => {\n",
       "      let quickchartButtonEl =\n",
       "        document.querySelector('#df-a62d3dda-4749-42d9-b47d-f8f02b2d829e button');\n",
       "      quickchartButtonEl.style.display =\n",
       "        google.colab.kernel.accessAllowed ? 'block' : 'none';\n",
       "    })();\n",
       "  </script>\n",
       "</div>\n",
       "    </div>\n",
       "  </div>\n"
      ],
      "text/plain": [
       "                                                     text  has_personal_data\n",
       "333823  Notice price by race final idea.\\nWhile choose...                  0\n",
       "654420  Speak happy arrive though. Power street person...                  0\n",
       "744810                            sullivankeith@gmail.com                  1\n",
       "289997  william69@carr.org 1977-04-18 137 Johnson Driv...                  1\n",
       "518932  Billy Garcia 42291 Anthony Port Apt. 121\\nAnde...                  1\n",
       "...                                                   ...                ...\n",
       "680785                                 edward15@gmail.com                  1\n",
       "841578  506 Bush Throughway Suite 166\\nFieldsburgh, NJ...                  1\n",
       "922188  Stephen Holloway +1-971-246-4483x90144 1599 Ba...                  1\n",
       "674157  Cell many reduce determine. Our best if pictur...                  0\n",
       "709028  Voice person travel executive approach. Scene ...                  0\n",
       "\n",
       "[100000 rows x 2 columns]"
      ]
     },
     "execution_count": 13,
     "metadata": {},
     "output_type": "execute_result"
    }
   ],
   "source": [
    "validation_df"
   ]
  },
  {
   "cell_type": "markdown",
   "id": "754a79e270be8472",
   "metadata": {
    "collapsed": false,
    "id": "754a79e270be8472",
    "jupyter": {
     "outputs_hidden": false
    }
   },
   "source": [
    "# 4. Train model on the synthetic data"
   ]
  },
  {
   "cell_type": "code",
   "execution_count": null,
   "id": "KGZoTqbxuQdZ",
   "metadata": {
    "colab": {
     "base_uri": "https://localhost:8080/",
     "height": 71
    },
    "execution": {
     "iopub.execute_input": "2024-02-12T19:10:42.386813Z",
     "iopub.status.busy": "2024-02-12T19:10:42.386484Z",
     "iopub.status.idle": "2024-02-12T19:10:42.395053Z",
     "shell.execute_reply": "2024-02-12T19:10:42.394076Z",
     "shell.execute_reply.started": "2024-02-12T19:10:42.386789Z"
    },
    "id": "KGZoTqbxuQdZ",
    "outputId": "0b23aa75-bf54-4c1d-f26e-dd20f5516be1"
   },
   "outputs": [
    {
     "name": "stdout",
     "output_type": "stream",
     "text": [
      "CPU times: user 1.18 ms, sys: 43 µs, total: 1.22 ms\n",
      "Wall time: 1.38 ms\n"
     ]
    },
    {
     "data": {
      "application/vnd.google.colaboratory.intrinsic+json": {
       "type": "string"
      },
      "text/plain": [
       "'/content/drive/MyDrive/Colab Notebooks/projects/personal_data_detector/run_1m'"
      ]
     },
     "execution_count": 14,
     "metadata": {},
     "output_type": "execute_result"
    }
   ],
   "source": [
    "%%time\n",
    "# Folder to store results of training and testing\n",
    "num_samples=1_000_000\n",
    "EXP_DIR = f'/content/drive/MyDrive/Colab Notebooks/projects/personal_data_detector/run_{int(num_samples/1000000)}m'\n",
    "# EXP_DIR = 'ADJUST PATH TO YOU FOLDER'\n",
    "pathlib.Path(EXP_DIR).mkdir(exist_ok=True, parents=True)\n",
    "EXP_DIR"
   ]
  },
  {
   "cell_type": "code",
   "execution_count": null,
   "id": "wg_uUfKCyWVp",
   "metadata": {
    "colab": {
     "base_uri": "https://localhost:8080/",
     "height": 288,
     "referenced_widgets": [
      "f981f6a774784bc98005883f51bb9c73",
      "6812d599c9614b44b37bec060b8aa9e0",
      "422c52db496f4ea39b69c7c39c0010d8",
      "6d59ce3a7f3e463b8ae38eebf484199c",
      "9ee68dcd97c3478480c35f9ebbe14614",
      "f7656120f7344739b293760253dc4f8a",
      "7b7ee2f46c4b48e2ae5b8a351c1d85bf",
      "ae3f7f4404924955bf3fcb7f296d689a",
      "05c9fc072d6947a6b924f7e42e82ffb8",
      "7fe8009654a44230a94eb63d94e36f1d",
      "49d839d0f82048719bdc02401fccfc04",
      "76f380a4582648d3ada9d5eadbc1e350",
      "231e99c3983d4de5940b215430b19f0c",
      "8f4d5fab274341449195f967c8723e8e",
      "07a4bfdf8c4541b198eb7d1ad736fc5a",
      "cb8a5b9a99e14266955a19419c3fe7ca",
      "ce2d247dad3543a39b48781c6a727d51",
      "43a7bbe8769f46c88f0a3ba5f196cbc9",
      "3a1d7dc61f634ddebe763d15d9c3b593",
      "452c9b7f674147108deae494996d576f",
      "00e836c72d254d10a5badd40d9977a6a",
      "4a07f1549db545de9284471a971bf5b4",
      "9b5151b416664d1ea6fbf5cb9829d4b5",
      "b637d5d1c31f4f9593ca0cd4deee210d",
      "cd33a426afb947b4b6bb3f4bd4e12c48",
      "ebd3d092c1e64a93a2157534c9ba44e0",
      "7dea23e73cc4440182eaa472955ef4a3",
      "736bd1da2cb94fd3a7aec4676e59cd8c",
      "c2d54eefae724f9b9eca167fb4f1d5bc",
      "1eecd344cfc54193b357788ee6b3cbfa",
      "aa15e1f7ea7d4b76878b5c5cbd289e99",
      "cf8f5f519d66469db2b3698beeb345c4",
      "b7e0356f065a4d2d92b7c5303c53df1a",
      "7b67a31d3b0a42098601be12d3e6677d",
      "34c5e57255f04ae9ba5a1eca1f888509",
      "d01643169960450a859ed215cfced128",
      "8822ee1633874d91adbcab6d595fb319",
      "a99f381e59554a1b93dfc05cde80a726",
      "f3b63f0bbb144e8ca7125dac1d385261",
      "379551a25d5c4f98bfbca7b9b2d0e5a1",
      "a72404daf86c44c08d04a6d83f9bdcd2",
      "1db104634cd14dcdb3393833dfaa0569",
      "dcc6a7dd61874a448093117cb25a8e0b",
      "e7aff2e24c94495c937e34b23909f51a"
     ]
    },
    "execution": {
     "iopub.execute_input": "2024-02-12T19:10:45.403770Z",
     "iopub.status.busy": "2024-02-12T19:10:45.403164Z",
     "iopub.status.idle": "2024-02-12T19:10:46.284574Z",
     "shell.execute_reply": "2024-02-12T19:10:46.283635Z",
     "shell.execute_reply.started": "2024-02-12T19:10:45.403741Z"
    },
    "id": "wg_uUfKCyWVp",
    "outputId": "e1f97bc2-8de1-4500-fa86-7e05831f6f0c"
   },
   "outputs": [
    {
     "name": "stderr",
     "output_type": "stream",
     "text": [
      "/usr/local/lib/python3.10/dist-packages/huggingface_hub/utils/_token.py:88: UserWarning: \n",
      "The secret `HF_TOKEN` does not exist in your Colab secrets.\n",
      "To authenticate with the Hugging Face Hub, create a token in your settings tab (https://huggingface.co/settings/tokens), set it as secret in your Google Colab and restart your session.\n",
      "You will be able to reuse this secret in all of your notebooks.\n",
      "Please note that authentication is recommended but still optional to access public models or datasets.\n",
      "  warnings.warn(\n"
     ]
    },
    {
     "data": {
      "application/vnd.jupyter.widget-view+json": {
       "model_id": "f981f6a774784bc98005883f51bb9c73",
       "version_major": 2,
       "version_minor": 0
      },
      "text/plain": [
       "tokenizer_config.json:   0%|          | 0.00/28.0 [00:00<?, ?B/s]"
      ]
     },
     "metadata": {},
     "output_type": "display_data"
    },
    {
     "data": {
      "application/vnd.jupyter.widget-view+json": {
       "model_id": "76f380a4582648d3ada9d5eadbc1e350",
       "version_major": 2,
       "version_minor": 0
      },
      "text/plain": [
       "vocab.txt:   0%|          | 0.00/232k [00:00<?, ?B/s]"
      ]
     },
     "metadata": {},
     "output_type": "display_data"
    },
    {
     "data": {
      "application/vnd.jupyter.widget-view+json": {
       "model_id": "9b5151b416664d1ea6fbf5cb9829d4b5",
       "version_major": 2,
       "version_minor": 0
      },
      "text/plain": [
       "tokenizer.json:   0%|          | 0.00/466k [00:00<?, ?B/s]"
      ]
     },
     "metadata": {},
     "output_type": "display_data"
    },
    {
     "data": {
      "application/vnd.jupyter.widget-view+json": {
       "model_id": "7b67a31d3b0a42098601be12d3e6677d",
       "version_major": 2,
       "version_minor": 0
      },
      "text/plain": [
       "config.json:   0%|          | 0.00/483 [00:00<?, ?B/s]"
      ]
     },
     "metadata": {},
     "output_type": "display_data"
    },
    {
     "name": "stdout",
     "output_type": "stream",
     "text": [
      "CPU times: user 207 ms, sys: 13.4 ms, total: 221 ms\n",
      "Wall time: 4.22 s\n"
     ]
    }
   ],
   "source": [
    "%%time\n",
    "# Initialize the BERT tokenizer and model\n",
    "model_name = 'distilbert-base-uncased'\n",
    "# Load the BERT tokenizer\n",
    "tokenizer = DistilBertTokenizerFast.from_pretrained(model_name)"
   ]
  },
  {
   "cell_type": "code",
   "execution_count": null,
   "id": "KHhiTa_1wWP_",
   "metadata": {
    "colab": {
     "base_uri": "https://localhost:8080/",
     "height": 105,
     "referenced_widgets": [
      "027ad424afb34953bd7d40e965bb0608",
      "859bb65096ad4527a8ed674709ba9fff",
      "23413835f06847e68fb1a695a7fbba10",
      "0d302ff166e84ccf9dd932466ea418eb",
      "7a83d346b37b48e49f027ab8d5de0336",
      "80340b8b297247bba7ee3bfd1f91388b",
      "bc64a084d6204f2d8c24f3bc758fa41e",
      "d2811af67005467582c39f1d18076734",
      "7ab17fd41db143679bccefa1710764c5",
      "aaa11fa573a749aca30c35fa8c7bd0ec",
      "9d101a6ab90d43a49ee7aed4eee34bee"
     ]
    },
    "execution": {
     "iopub.execute_input": "2024-02-12T19:10:50.999737Z",
     "iopub.status.busy": "2024-02-12T19:10:50.998849Z",
     "iopub.status.idle": "2024-02-12T19:10:53.204295Z",
     "shell.execute_reply": "2024-02-12T19:10:53.203447Z",
     "shell.execute_reply.started": "2024-02-12T19:10:50.999698Z"
    },
    "id": "KHhiTa_1wWP_",
    "outputId": "03ea20dd-87c8-4def-eb9a-3cb7b749e1d2"
   },
   "outputs": [
    {
     "data": {
      "application/vnd.jupyter.widget-view+json": {
       "model_id": "027ad424afb34953bd7d40e965bb0608",
       "version_major": 2,
       "version_minor": 0
      },
      "text/plain": [
       "model.safetensors:   0%|          | 0.00/268M [00:00<?, ?B/s]"
      ]
     },
     "metadata": {},
     "output_type": "display_data"
    },
    {
     "name": "stderr",
     "output_type": "stream",
     "text": [
      "Some weights of DistilBertForSequenceClassification were not initialized from the model checkpoint at distilbert-base-uncased and are newly initialized: ['classifier.bias', 'pre_classifier.bias', 'classifier.weight', 'pre_classifier.weight']\n",
      "You should probably TRAIN this model on a down-stream task to be able to use it for predictions and inference.\n"
     ]
    }
   ],
   "source": [
    "model = DistilBertForSequenceClassification.from_pretrained(model_name, num_labels=2)  # binary classification"
   ]
  },
  {
   "cell_type": "markdown",
   "id": "KsXXBlvOuo1F",
   "metadata": {
    "id": "KsXXBlvOuo1F"
   },
   "source": [
    "## Use Dataloader to upload data"
   ]
  },
  {
   "cell_type": "code",
   "execution_count": null,
   "id": "Q_kCwtFSdPow",
   "metadata": {
    "execution": {
     "iopub.execute_input": "2024-02-12T19:11:04.029561Z",
     "iopub.status.busy": "2024-02-12T19:11:04.029193Z",
     "iopub.status.idle": "2024-02-12T19:11:04.037602Z",
     "shell.execute_reply": "2024-02-12T19:11:04.036727Z",
     "shell.execute_reply.started": "2024-02-12T19:11:04.029533Z"
    },
    "id": "Q_kCwtFSdPow"
   },
   "outputs": [],
   "source": [
    "from torch.utils.data import Dataset, DataLoader\n",
    "\n",
    "class CustomDataset(Dataset):\n",
    "    def __init__(self, df, tokenizer):\n",
    "        self.df = df\n",
    "        self.tokenizer = tokenizer\n",
    "\n",
    "    def __len__(self):\n",
    "        return len(self.df)\n",
    "\n",
    "    def __getitem__(self, idx):\n",
    "        text = self.df.iloc[idx]['text']\n",
    "        label = self.df.iloc[idx]['has_personal_data']\n",
    "\n",
    "        encoding = self.tokenizer(text, padding='max_length', truncation=True, return_tensors='pt', max_length=256)\n",
    "\n",
    "        return {\n",
    "            'input_ids': encoding['input_ids'].squeeze(),\n",
    "            'attention_mask': encoding['attention_mask'].squeeze(),\n",
    "            'labels': torch.tensor(label)\n",
    "        }\n",
    "\n",
    "# Create instances of the custom dataset\n",
    "train_dataset = CustomDataset(train_df, tokenizer)\n",
    "validation_dataset = CustomDataset(validation_df, tokenizer)\n",
    "test_dataset = CustomDataset(test_df, tokenizer)"
   ]
  },
  {
   "cell_type": "code",
   "execution_count": null,
   "id": "3PfoYHGw7FfT",
   "metadata": {
    "colab": {
     "base_uri": "https://localhost:8080/"
    },
    "execution": {
     "iopub.execute_input": "2024-02-12T19:11:08.127460Z",
     "iopub.status.busy": "2024-02-12T19:11:08.127120Z",
     "iopub.status.idle": "2024-02-12T19:11:08.190739Z",
     "shell.execute_reply": "2024-02-12T19:11:08.189856Z",
     "shell.execute_reply.started": "2024-02-12T19:11:08.127435Z"
    },
    "id": "3PfoYHGw7FfT",
    "outputId": "96d635bf-a337-4871-a6ce-bf5e680979a9"
   },
   "outputs": [
    {
     "data": {
      "text/plain": [
       "True"
      ]
     },
     "execution_count": 19,
     "metadata": {},
     "output_type": "execute_result"
    }
   ],
   "source": [
    "# Get the CUDA device capability\n",
    "cuda_capability = torch.cuda.get_device_capability(0)\n",
    "print(cuda_capability )\n",
    "# Check if CUDA is available and the major version is greater than or equal to 7\n",
    "fp16 = torch.cuda.is_available() and cuda_capability[0] >= 7\n",
    "fp16"
   ]
  },
  {
   "cell_type": "code",
   "execution_count": null,
   "id": "H69d2p8guQdZ",
   "metadata": {
    "execution": {
     "iopub.execute_input": "2024-02-12T19:12:33.064890Z",
     "iopub.status.busy": "2024-02-12T19:12:33.064536Z",
     "iopub.status.idle": "2024-02-12T19:12:33.081562Z",
     "shell.execute_reply": "2024-02-12T19:12:33.080514Z",
     "shell.execute_reply.started": "2024-02-12T19:12:33.064861Z"
    },
    "id": "H69d2p8guQdZ"
   },
   "outputs": [],
   "source": [
    "# Set up the training arguments with --load_best_model_at_end\n",
    "training_args = TrainingArguments(\n",
    "    output_dir=f'{EXP_DIR}/results',\n",
    "    num_train_epochs=20,\n",
    "    per_device_train_batch_size=128, # Adjust according conditions\n",
    "    fp16=fp16,\n",
    "    evaluation_strategy=\"steps\",  # Change evaluation strategy to \"steps\"\n",
    "    logging_dir=f'{EXP_DIR}/logs',\n",
    "    logging_steps=100,\n",
    "    do_train=True,\n",
    "    do_eval=True,\n",
    "    load_best_model_at_end=True,\n",
    "    metric_for_best_model=\"eval_loss\",\n",
    "    greater_is_better=False,\n",
    "    save_total_limit=3,\n",
    ")\n",
    "\n",
    "\n",
    "# Trainer initialization with the EarlyStoppingCallback\n",
    "trainer = Trainer(\n",
    "    model=model,\n",
    "    args=training_args,\n",
    "    train_dataset=train_dataset,\n",
    "    eval_dataset=validation_dataset,\n",
    "    callbacks=[EarlyStoppingCallback(early_stopping_patience=3, early_stopping_threshold=0.02)],\n",
    ")"
   ]
  },
  {
   "cell_type": "code",
   "execution_count": null,
   "id": "Pn37xHSRuQdZ",
   "metadata": {
    "colab": {
     "base_uri": "https://localhost:8080/",
     "height": 400
    },
    "execution": {
     "iopub.execute_input": "2024-02-12T19:12:37.000605Z",
     "iopub.status.busy": "2024-02-12T19:12:36.999942Z"
    },
    "id": "Pn37xHSRuQdZ",
    "outputId": "72bdbf45-2751-423d-da89-4d87ada626c9"
   },
   "outputs": [
    {
     "data": {
      "text/html": [
       "\n",
       "    <div>\n",
       "      \n",
       "      <progress value='800' max='125000' style='width:300px; height:20px; vertical-align: middle;'></progress>\n",
       "      [   800/125000 51:38 < 133:58:41, 0.26 it/s, Epoch 0/20]\n",
       "    </div>\n",
       "    <table border=\"1\" class=\"dataframe\">\n",
       "  <thead>\n",
       " <tr style=\"text-align: left;\">\n",
       "      <th>Step</th>\n",
       "      <th>Training Loss</th>\n",
       "      <th>Validation Loss</th>\n",
       "    </tr>\n",
       "  </thead>\n",
       "  <tbody>\n",
       "    <tr>\n",
       "      <td>100</td>\n",
       "      <td>0.039900</td>\n",
       "      <td>0.000432</td>\n",
       "    </tr>\n",
       "    <tr>\n",
       "      <td>200</td>\n",
       "      <td>0.000200</td>\n",
       "      <td>0.000158</td>\n",
       "    </tr>\n",
       "    <tr>\n",
       "      <td>300</td>\n",
       "      <td>0.001800</td>\n",
       "      <td>0.000101</td>\n",
       "    </tr>\n",
       "    <tr>\n",
       "      <td>400</td>\n",
       "      <td>0.000100</td>\n",
       "      <td>0.000073</td>\n",
       "    </tr>\n",
       "    <tr>\n",
       "      <td>500</td>\n",
       "      <td>0.000000</td>\n",
       "      <td>0.000062</td>\n",
       "    </tr>\n",
       "    <tr>\n",
       "      <td>600</td>\n",
       "      <td>0.000300</td>\n",
       "      <td>0.000018</td>\n",
       "    </tr>\n",
       "    <tr>\n",
       "      <td>700</td>\n",
       "      <td>0.000000</td>\n",
       "      <td>0.000282</td>\n",
       "    </tr>\n",
       "    <tr>\n",
       "      <td>800</td>\n",
       "      <td>0.000900</td>\n",
       "      <td>0.000113</td>\n",
       "    </tr>\n",
       "  </tbody>\n",
       "</table><p>"
      ],
      "text/plain": [
       "<IPython.core.display.HTML object>"
      ]
     },
     "metadata": {},
     "output_type": "display_data"
    },
    {
     "data": {
      "text/html": [
       "\n",
       "    <div>\n",
       "      \n",
       "      <progress value='12500' max='12500' style='width:300px; height:20px; vertical-align: middle;'></progress>\n",
       "      [12500/12500 04:49]\n",
       "    </div>\n",
       "    "
      ],
      "text/plain": [
       "<IPython.core.display.HTML object>"
      ]
     },
     "metadata": {},
     "output_type": "display_data"
    },
    {
     "name": "stdout",
     "output_type": "stream",
     "text": [
      "{'eval_loss': 2.3701109967078082e-05, 'eval_runtime': 289.2591, 'eval_samples_per_second': 345.711, 'eval_steps_per_second': 43.214, 'epoch': 0.13}\n",
      "CPU times: user 53min 53s, sys: 13.5 s, total: 54min 6s\n",
      "Wall time: 56min 34s\n"
     ]
    }
   ],
   "source": [
    "%%time\n",
    "# Train the model\n",
    "trainer.train()\n",
    "\n",
    "# Evaluate the model on the test dataset\n",
    "test_results = trainer.evaluate(test_dataset)  # Pass test_dataset\n",
    "\n",
    "# Print test results\n",
    "print(test_results)"
   ]
  },
  {
   "cell_type": "markdown",
   "id": "rXV8vDKb5wGV",
   "metadata": {
    "id": "rXV8vDKb5wGV"
   },
   "source": []
  },
  {
   "cell_type": "code",
   "execution_count": null,
   "id": "gdi4ukyuuQda",
   "metadata": {
    "colab": {
     "base_uri": "https://localhost:8080/"
    },
    "id": "gdi4ukyuuQda",
    "outputId": "14540352-5fc2-40be-bdaf-b434ade50d31"
   },
   "outputs": [
    {
     "data": {
      "text/plain": [
       "('/content/drive/MyDrive/Colab Notebooks/projects/personal_data_detector/run_1m/model_1m/tokenizer_config.json',\n",
       " '/content/drive/MyDrive/Colab Notebooks/projects/personal_data_detector/run_1m/model_1m/special_tokens_map.json',\n",
       " '/content/drive/MyDrive/Colab Notebooks/projects/personal_data_detector/run_1m/model_1m/vocab.txt',\n",
       " '/content/drive/MyDrive/Colab Notebooks/projects/personal_data_detector/run_1m/model_1m/added_tokens.json',\n",
       " '/content/drive/MyDrive/Colab Notebooks/projects/personal_data_detector/run_1m/model_1m/tokenizer.json')"
      ]
     },
     "execution_count": 22,
     "metadata": {},
     "output_type": "execute_result"
    }
   ],
   "source": [
    "# Save trained model\n",
    "output_model_dir = f'{EXP_DIR}/model_{int(num_samples/1000000)}m'\n",
    "# output_model_dir = 'ADJUST PATH TO YOU FOLDER'\n",
    "model.save_pretrained(output_model_dir)\n",
    "tokenizer.save_pretrained(output_model_dir)"
   ]
  },
  {
   "cell_type": "code",
   "execution_count": null,
   "id": "X9MFswthz4t7",
   "metadata": {
    "colab": {
     "base_uri": "https://localhost:8080/"
    },
    "id": "X9MFswthz4t7",
    "outputId": "b245dd82-224e-46e8-d057-54051896ff07"
   },
   "outputs": [
    {
     "name": "stdout",
     "output_type": "stream",
     "text": [
      "  adding: content/drive/MyDrive/Colab Notebooks/projects/personal_data_detector/run_1m/ (stored 0%)\n",
      "  adding: content/drive/MyDrive/Colab Notebooks/projects/personal_data_detector/run_1m/results/ (stored 0%)\n",
      "  adding: content/drive/MyDrive/Colab Notebooks/projects/personal_data_detector/run_1m/results/checkpoint-500/ (stored 0%)\n",
      "  adding: content/drive/MyDrive/Colab Notebooks/projects/personal_data_detector/run_1m/results/checkpoint-500/config.json (deflated 46%)\n",
      "  adding: content/drive/MyDrive/Colab Notebooks/projects/personal_data_detector/run_1m/results/checkpoint-500/model.safetensors (deflated 8%)\n",
      "  adding: content/drive/MyDrive/Colab Notebooks/projects/personal_data_detector/run_1m/results/checkpoint-500/training_args.bin (deflated 51%)\n",
      "  adding: content/drive/MyDrive/Colab Notebooks/projects/personal_data_detector/run_1m/results/checkpoint-500/optimizer.pt (deflated 34%)\n",
      "  adding: content/drive/MyDrive/Colab Notebooks/projects/personal_data_detector/run_1m/results/checkpoint-500/scheduler.pt (deflated 56%)\n",
      "  adding: content/drive/MyDrive/Colab Notebooks/projects/personal_data_detector/run_1m/results/checkpoint-500/trainer_state.json (deflated 71%)\n",
      "  adding: content/drive/MyDrive/Colab Notebooks/projects/personal_data_detector/run_1m/results/checkpoint-500/rng_state.pth (deflated 25%)\n",
      "  adding: content/drive/MyDrive/Colab Notebooks/projects/personal_data_detector/run_1m/logs/ (stored 0%)\n",
      "  adding: content/drive/MyDrive/Colab Notebooks/projects/personal_data_detector/run_1m/logs/events.out.tfevents.1707766527.90b7bff05003.185.0 (deflated 61%)\n",
      "  adding: content/drive/MyDrive/Colab Notebooks/projects/personal_data_detector/run_1m/logs/events.out.tfevents.1707769920.90b7bff05003.185.1 (deflated 24%)\n",
      "  adding: content/drive/MyDrive/Colab Notebooks/projects/personal_data_detector/run_1m/model_1m/ (stored 0%)\n",
      "  adding: content/drive/MyDrive/Colab Notebooks/projects/personal_data_detector/run_1m/model_1m/config.json (deflated 46%)\n",
      "  adding: content/drive/MyDrive/Colab Notebooks/projects/personal_data_detector/run_1m/model_1m/model.safetensors (deflated 8%)\n",
      "  adding: content/drive/MyDrive/Colab Notebooks/projects/personal_data_detector/run_1m/model_1m/tokenizer_config.json (deflated 76%)\n",
      "  adding: content/drive/MyDrive/Colab Notebooks/projects/personal_data_detector/run_1m/model_1m/special_tokens_map.json (deflated 42%)\n",
      "  adding: content/drive/MyDrive/Colab Notebooks/projects/personal_data_detector/run_1m/model_1m/vocab.txt (deflated 53%)\n",
      "  adding: content/drive/MyDrive/Colab Notebooks/projects/personal_data_detector/run_1m/model_1m/tokenizer.json (deflated 71%)\n"
     ]
    }
   ],
   "source": [
    "!zip -r \"/content/drive/MyDrive/Colab Notebooks/projects/personal_data_detector/run_1m.zip\" \"/content/drive/MyDrive/Colab Notebooks/projects/personal_data_detector/run_1m\""
   ]
  },
  {
   "cell_type": "markdown",
   "id": "9EMxdEvnuQda",
   "metadata": {
    "collapsed": false,
    "id": "9EMxdEvnuQda",
    "jupyter": {
     "outputs_hidden": false
    }
   },
   "source": [
    "# 5. Make a classificator to distinguish weather text contains persona data or not"
   ]
  },
  {
   "cell_type": "code",
   "execution_count": null,
   "id": "c3km8veVuQda",
   "metadata": {
    "id": "c3km8veVuQda"
   },
   "outputs": [],
   "source": [
    "from transformers import BertTokenizer, BertForSequenceClassification\n",
    "\n",
    "# Load the trained model and tokenizer\n",
    "output_model_dir = 'run_1m/model_1m/'\n",
    "# model_name = 'ADJUST PATH TO YOUR MODEL HERE'\n",
    "model_name = output_model_dir\n",
    "model = DistilBertForSequenceClassification.from_pretrained(model_name)\n",
    "tokenizer = DistilBertTokenizerFast.from_pretrained(model_name)\n",
    "\n",
    "# Function to classify input text\n",
    "def classify_personal_data(input_text):\n",
    "    # Tokenize the input text\n",
    "    # inputs = tokenizer(input_text, padding=True, truncation=True, return_tensors=\"pt\")\n",
    "    inputs = tokenizer(input_text, padding='max_length', truncation=True, return_tensors='pt', max_length=256)\n",
    "    # Make a prediction\n",
    "    with torch.no_grad():\n",
    "        outputs = model(**inputs)\n",
    "\n",
    "    # Get the predicted label (0 or 1)\n",
    "    predicted_label = torch.argmax(outputs.logits, dim=1).item()\n",
    "    print(predicted_label)\n",
    "    return \"The input text contains personal data.\" if predicted_label else \"The input text does not contain personal data.\""
   ]
  },
  {
   "cell_type": "code",
   "execution_count": null,
   "id": "DPfyhH0juQda",
   "metadata": {
    "colab": {
     "base_uri": "https://localhost:8080/"
    },
    "id": "DPfyhH0juQda",
    "outputId": "cffb6f2a-ee8f-4ed9-819a-55206247d43e"
   },
   "outputs": [
    {
     "name": "stdout",
     "output_type": "stream",
     "text": [
      "1\n",
      "The input text contains personal data.\n"
     ]
    }
   ],
   "source": [
    "# Example usage\n",
    "input_text = \"John Doe lives at 123 Main Street New York.\"\n",
    "result = classify_personal_data(input_text)\n",
    "print(result)"
   ]
  },
  {
   "cell_type": "code",
   "execution_count": null,
   "id": "Qug5pdFKuQda",
   "metadata": {
    "colab": {
     "base_uri": "https://localhost:8080/",
     "height": 53
    },
    "id": "Qug5pdFKuQda",
    "outputId": "8065b240-b308-4ad6-d79c-d86a7b71741d"
   },
   "outputs": [
    {
     "name": "stdout",
     "output_type": "stream",
     "text": [
      "0\n"
     ]
    },
    {
     "data": {
      "text/plain": [
       "'The input text does not contain personal data.'"
      ]
     },
     "execution_count": 6,
     "metadata": {},
     "output_type": "execute_result"
    }
   ],
   "source": [
    "classify_personal_data('There is no personal data at all!!!')"
   ]
  },
  {
   "cell_type": "code",
   "execution_count": null,
   "id": "FAivsSJUxKxy",
   "metadata": {
    "colab": {
     "base_uri": "https://localhost:8080/",
     "height": 53
    },
    "id": "FAivsSJUxKxy",
    "outputId": "28756472-c944-4991-84b7-70ea5280c240"
   },
   "outputs": [
    {
     "name": "stdout",
     "output_type": "stream",
     "text": [
      "0\n"
     ]
    },
    {
     "data": {
      "text/plain": [
       "'The input text does not contain personal data.'"
      ]
     },
     "execution_count": 7,
     "metadata": {},
     "output_type": "execute_result"
    }
   ],
   "source": [
    "classify_personal_data(input_text='I go to the nearest shop to buy milk')"
   ]
  },
  {
   "cell_type": "code",
   "execution_count": null,
   "id": "pB9CPLIkxrQ2",
   "metadata": {
    "colab": {
     "base_uri": "https://localhost:8080/",
     "height": 53
    },
    "id": "pB9CPLIkxrQ2",
    "outputId": "f51ab88f-c1aa-4c74-d1c9-5349b8ad72ff"
   },
   "outputs": [
    {
     "name": "stdout",
     "output_type": "stream",
     "text": [
      "1\n"
     ]
    },
    {
     "data": {
      "text/plain": [
       "'The input text contains personal data.'"
      ]
     },
     "execution_count": 8,
     "metadata": {},
     "output_type": "execute_result"
    }
   ],
   "source": [
    "classify_personal_data(input_text=\"abra kadabra it's not personal data\")"
   ]
  },
  {
   "cell_type": "code",
   "execution_count": null,
   "id": "Qxa2Y9SF-73N",
   "metadata": {
    "colab": {
     "base_uri": "https://localhost:8080/",
     "height": 53
    },
    "id": "Qxa2Y9SF-73N",
    "outputId": "63130fda-5edb-4ec5-ee37-a420d87fe390"
   },
   "outputs": [
    {
     "name": "stdout",
     "output_type": "stream",
     "text": [
      "0\n"
     ]
    },
    {
     "data": {
      "text/plain": [
       "'The input text does not contain personal data.'"
      ]
     },
     "execution_count": 9,
     "metadata": {},
     "output_type": "execute_result"
    }
   ],
   "source": [
    "classify_personal_data(input_text=\"the moon in the sky at night is very beautiful\")"
   ]
  },
  {
   "cell_type": "code",
   "execution_count": null,
   "id": "WhofxWlyyOWR",
   "metadata": {
    "colab": {
     "base_uri": "https://localhost:8080/",
     "height": 53
    },
    "id": "WhofxWlyyOWR",
    "outputId": "489af990-d1b8-4986-8a02-cb7d67dce435"
   },
   "outputs": [
    {
     "name": "stdout",
     "output_type": "stream",
     "text": [
      "0\n"
     ]
    },
    {
     "data": {
      "text/plain": [
       "'The input text does not contain personal data.'"
      ]
     },
     "execution_count": 10,
     "metadata": {},
     "output_type": "execute_result"
    }
   ],
   "source": [
    "classify_personal_data(input_text=\"We live on the planet earth. \")"
   ]
  },
  {
   "cell_type": "code",
   "execution_count": null,
   "id": "XktQpK9f-y9s",
   "metadata": {
    "colab": {
     "base_uri": "https://localhost:8080/",
     "height": 53
    },
    "id": "XktQpK9f-y9s",
    "outputId": "4bb438dd-80a8-434a-a0a7-22bf3ba3fcef"
   },
   "outputs": [
    {
     "name": "stdout",
     "output_type": "stream",
     "text": [
      "1\n"
     ]
    },
    {
     "data": {
      "text/plain": [
       "'The input text contains personal data.'"
      ]
     },
     "execution_count": 11,
     "metadata": {},
     "output_type": "execute_result"
    }
   ],
   "source": [
    "classify_personal_data(input_text=\"Sherlock Holms, London, +12345678\")"
   ]
  },
  {
   "cell_type": "code",
   "execution_count": null,
   "id": "SVwY36BI3IY3",
   "metadata": {
    "colab": {
     "base_uri": "https://localhost:8080/",
     "height": 53
    },
    "id": "SVwY36BI3IY3",
    "outputId": "79d00399-1bc0-4ca2-9277-4048992ffc9a"
   },
   "outputs": [
    {
     "name": "stdout",
     "output_type": "stream",
     "text": [
      "1\n"
     ]
    },
    {
     "data": {
      "text/plain": [
       "'The input text contains personal data.'"
      ]
     },
     "execution_count": 12,
     "metadata": {},
     "output_type": "execute_result"
    }
   ],
   "source": [
    "classify_personal_data(input_text=\"Woody Woodpecker is and animated hero. It's name is fictiona and it's not personal data\")"
   ]
  },
  {
   "cell_type": "code",
   "execution_count": null,
   "id": "2Fhonc6dBmAR",
   "metadata": {
    "id": "2Fhonc6dBmAR",
    "outputId": "2320b590-e979-4d87-c289-877fff5c9847"
   },
   "outputs": [
    {
     "name": "stdout",
     "output_type": "stream",
     "text": [
      "0\n"
     ]
    },
    {
     "data": {
      "text/plain": [
       "'The input text does not contain personal data.'"
      ]
     },
     "execution_count": 15,
     "metadata": {},
     "output_type": "execute_result"
    }
   ],
   "source": [
    "classify_personal_data(input_text=\"Is it true that you can classify wether sentence contains personal data or not + 55 and for example email?\")"
   ]
  },
  {
   "cell_type": "code",
   "execution_count": null,
   "id": "8ecc0bfd-8a03-40dd-acb5-9e3d498c89ed",
   "metadata": {
    "id": "8ecc0bfd-8a03-40dd-acb5-9e3d498c89ed"
   },
   "outputs": [],
   "source": []
  }
 ],
 "metadata": {
  "accelerator": "GPU",
  "colab": {
   "gpuType": "T4",
   "provenance": []
  },
  "kaggle": {
   "accelerator": "nvidiaTeslaT4",
   "dataSources": [
    {
     "datasetId": 4429575,
     "sourceId": 7607681,
     "sourceType": "datasetVersion"
    }
   ],
   "dockerImageVersionId": 30646,
   "isGpuEnabled": true,
   "isInternetEnabled": true,
   "language": "python",
   "sourceType": "notebook"
  },
  "kernelspec": {
   "display_name": "Python 3 (ipykernel)",
   "language": "python",
   "name": "python3"
  },
  "language_info": {
   "codemirror_mode": {
    "name": "ipython",
    "version": 3
   },
   "file_extension": ".py",
   "mimetype": "text/x-python",
   "name": "python",
   "nbconvert_exporter": "python",
   "pygments_lexer": "ipython3",
   "version": "3.12.1"
  },
  "widgets": {
   "application/vnd.jupyter.widget-state+json": {
    "state": {},
    "version_major": 2,
    "version_minor": 0
   }
  }
 },
 "nbformat": 4,
 "nbformat_minor": 5
}
